{
 "cells": [
  {
   "cell_type": "code",
   "execution_count": 1,
   "metadata": {
    "ExecuteTime": {
     "end_time": "2017-03-28T17:44:29.050669",
     "start_time": "2017-03-28T15:44:28.894Z"
    },
    "collapsed": true
   },
   "outputs": [],
   "source": [
    "# from https://github.com/cran/GSA/blob/master/R/GSA.read.gmt.R\n",
    "GSA.read.gmt = function(filename){\n",
    "    # Read in and parse a gmt file (gene set file) from the  Broad institute\n",
    "    # this is tricky, because each lines (geneset) has a variable length\n",
    "    #  I read the file twice, first to pick up the geneset name and description\n",
    "    # in the   first two  columns, then I read it all in as a long string\n",
    "\n",
    "    # The beginning and end of each gene set in the string\n",
    "    # is determined by matching\n",
    "    # BOTH on  geneset name and description (since geneset names sometimes\n",
    "    # occur as genenames elsewhere in the file)\n",
    "\n",
    "    a = scan(filename,what = list(\"\",\"\"),sep = \"\\t\", quote = NULL, fill = T, flush = T,multi.line = F)\n",
    "    geneset.names = a[1][[1]]\n",
    "\n",
    "    geneset.descriptions = a[2][[1]]\n",
    "\n",
    "    dd = scan(filename,what = \"\",sep = \"\\t\", quote = NULL)\n",
    "\n",
    "\n",
    "    nn = length(geneset.names)\n",
    "    n = length(dd)\n",
    "    ox = rep(NA,nn)\n",
    "\n",
    "    ii = 1\n",
    "    for(i in 1:nn){\n",
    "        while((dd[ii] != geneset.names[i]) | (dd[ii+1] != geneset.descriptions[i]) ){\n",
    "            ii = ii+1\n",
    "        }\n",
    "        ox[i] = ii\n",
    "        ii = ii+1\n",
    "    }\n",
    "\n",
    "    genesets = vector(\"list\",nn)\n",
    "\n",
    "    for(i in 1:(nn-1)){\n",
    "        i1 = ox[i]+2\n",
    "        i2 = ox[i+1]-1\n",
    "        geneset.descriptions[i] = dd[ox[i]+1]\n",
    "        genesets[[i]] = dd[i1:i2]\n",
    "    }\n",
    "\n",
    "    geneset.descriptions[nn] = dd[ox[nn]+1]\n",
    "    genesets[[nn]] = dd[(ox[nn]+2):n]\n",
    "    out = list(genesets = genesets,geneset.names = geneset.names, geneset.descriptions = geneset.descriptions)\n",
    "    class(out) = \"GSA.genesets\"\n",
    "    return(out)\n",
    "}"
   ]
  },
  {
   "cell_type": "code",
   "execution_count": 2,
   "metadata": {
    "ExecuteTime": {
     "end_time": "2017-03-28T17:44:35.477446",
     "start_time": "2017-03-28T15:44:28.900Z"
    },
    "collapsed": false
   },
   "outputs": [
    {
     "name": "stderr",
     "output_type": "stream",
     "text": [
      "Loading tidyverse: ggplot2\n",
      "Loading tidyverse: tibble\n",
      "Loading tidyverse: tidyr\n",
      "Loading tidyverse: readr\n",
      "Loading tidyverse: purrr\n",
      "Loading tidyverse: dplyr\n",
      "Conflicts with tidy packages ---------------------------------------------------\n",
      "filter(): dplyr, stats\n",
      "lag():    dplyr, stats\n",
      "\n",
      "Attaching package: ‘igraph’\n",
      "\n",
      "The following objects are masked from ‘package:dplyr’:\n",
      "\n",
      "    %>%, as_data_frame, groups, union\n",
      "\n",
      "The following objects are masked from ‘package:purrr’:\n",
      "\n",
      "    %>%, compose, simplify\n",
      "\n",
      "The following objects are masked from ‘package:tidyr’:\n",
      "\n",
      "    %>%, crossing\n",
      "\n",
      "The following object is masked from ‘package:tibble’:\n",
      "\n",
      "    as_data_frame\n",
      "\n",
      "The following object is masked from ‘package:magrittr’:\n",
      "\n",
      "    %>%\n",
      "\n",
      "The following objects are masked from ‘package:stats’:\n",
      "\n",
      "    decompose, spectrum\n",
      "\n",
      "The following object is masked from ‘package:base’:\n",
      "\n",
      "    union\n",
      "\n",
      "Warning message:\n",
      "“Missing column names filled in: 'X13' [13]”Warning message:\n",
      "“2895 parsing failures.\n",
      "row col   expected     actual\n",
      "  1  -- 13 columns 12 columns\n",
      "  2  -- 13 columns 12 columns\n",
      "  3  -- 13 columns 12 columns\n",
      "  4  -- 13 columns 12 columns\n",
      "  5  -- 13 columns 12 columns\n",
      "... ... .......... ..........\n",
      "See problems(...) for more details.\n",
      "”"
     ]
    }
   ],
   "source": [
    "source(\"~/projects/wisdom/r/data_analysis_environment.R\")\n",
    "library(igraph)\n",
    "options(\"readr.num_columns\" = 0)\n",
    "\n",
    "proteome <- read_tsv(\"../data/mutations/proteome_information.txt\")\n",
    "\n",
    "id2symbol <- proteome %>%\n",
    "    select(GeneId,Symbol) %>%\n",
    "    unique\n",
    "\n",
    "drivers <- read_tsv(\"../data/intogen_cancer_drivers-2014.12b/Mutational_drivers_per_tumor_type.tsv\",comment=\"#\") %>%\n",
    "  set_colnames(c(\"Symbol\",\"Tumor\")) %>%\n",
    "  .$Symbol\n",
    "\n",
    "network.PPI <- read_tsv(\"../data/eporta/raw_tables/interactions_found_more_than_three_times.txt\", col_names = F) %>%\n",
    "    select(-X3) %>%\n",
    "    set_colnames(c(\"Gene1\",\"Gene2\"))\n",
    "\n",
    "network.affectedPPI <- read_tsv(\"../results/supplementary_files/supplementary_file_4.tsv\") %>%\n",
    "    filter(Feature_type == \"Pfam\" & Effect_on_interaction %in% c('Loss','Gain')) %>%\n",
    "    select(GeneId,GeneId_partner) %>%\n",
    "    unique %>%\n",
    "    graph.data.frame(directed = FALSE)\n",
    "\n",
    "complexes.raw <- read_delim(\"../data/genesets/allComplexes.csv\", delim = \";\") %>%\n",
    "    set_colnames(c(\"id\",\"name\",\"synonym\",\"organism\",\"uniprots\",\"geneids\",\"method\",\n",
    "                   \"pmid\",\"FunCat.categories\",\"functional.comment\",\"disease.comment\",\"subunit.comment\")) %>%\n",
    "    filter(organism == \"Human\") %>% \n",
    "    select(name,geneids)\n",
    "\n",
    "complexes <- complexes.raw %>%\n",
    "    apply(1, function(x) strsplit(x[2], \",\") %>% unlist) %>%\n",
    "    set_names(complexes.raw$name)\n",
    "\n",
    "canonical.patways.raw <- GSA.read.gmt(\"../data/genesets/c2.cp.v4.0.entrez.gmt\")\n",
    "\n",
    "canonical.patways <- canonical.patways.raw$genesets\n",
    "names(canonical.patways) <- canonical.patways.raw$geneset.names\n",
    "        \n",
    "mrna.raw <- read_tsv(\"../data/genesets/akerman.csv\")\n",
    "\n",
    "mrna <- apply(mrna.raw, 1, function(x){\n",
    "            genes <- strsplit(x[2], \",\") %>% unlist %>% sub(\"^\\\\s+\", \"\", .)\n",
    "            id2symbol %>%\n",
    "                filter(Symbol %in% genes) %>% \n",
    "                .$GeneId\n",
    "        } ) %>% set_names(mrna.raw$Category)\n",
    "        \n",
    "genesets <- c(complexes, canonical.patways, mrna)"
   ]
  },
  {
   "cell_type": "code",
   "execution_count": 3,
   "metadata": {
    "ExecuteTime": {
     "end_time": "2017-03-28T17:47:01.690027",
     "start_time": "2017-03-28T15:44:28.907Z"
    },
    "collapsed": false
   },
   "outputs": [],
   "source": [
    "# calculate modules\n",
    "modules <- cluster_louvain(network.affectedPPI)\n",
    "module.names <- paste0(\"Module_\", 1:length(modules))\n",
    "module.genes <- lapply(groups(modules), function(x){ \n",
    "    id2symbol %>% filter(GeneId %in% x) %>% .$Symbol %>% paste(collapse=\",\")\n",
    "}) %>% unlist\n",
    "module.drivers  <- lapply(groups(modules), function(x) {\n",
    "    id2symbol %>% filter(GeneId %in% x) %>% .$Symbol %>% intersect(drivers) %>% length\n",
    "}) %>% unlist\n",
    "\n",
    "# number of coincidences between modules and genesets\n",
    "k <- lapply(groups(modules), function(m){\n",
    "    lapply(genesets, intersect, m) %>% lapply(length) %>% as.numeric\n",
    "}) %>% do.call(\"c\",.)\n",
    "\n",
    "# size of the genesets\n",
    "n <- lapply(genesets, length) %>% as.numeric\n",
    "# number of genes in any of the modules\n",
    "m <- groups(modules) %>% unlist %>% unique %>% length\n",
    "# total number of expressed genes\n",
    "N <- proteome %>% .$GeneId %>% unique %>% length\n",
    "\n",
    "# binomial test\n",
    "## for each module and geneset, we draw n genes (size of the geneset), and observe a\n",
    "## subset k were PPIs are affected. Is this higher than the share of the genome covered\n",
    "## by the modules?\n",
    "p <- mapply(function(k,n,p){binom.test(k, n, p, alternative = \"greater\")$p.value}, k, n, m/N)\n",
    "\n",
    "module.test <- data.frame(Module = rep(module.names, each=length(genesets)), \n",
    "                          Module_components = rep(module.genes, each=length(genesets)), \n",
    "                          Geneset = names(genesets), Geneset_size = n, p = p, \n",
    "                          Intersection = k, Number_drivers = rep(module.drivers, each=length(genesets))) %>%\n",
    "    mutate( padj = p.adjust(p)) %>%\n",
    "    arrange(p)\n",
    "\n",
    "write_tsv(module.test, \"../results/networks/annotated_modules.tsv\")"
   ]
  },
  {
   "cell_type": "code",
   "execution_count": null,
   "metadata": {
    "ExecuteTime": {
     "start_time": "2017-03-28T15:44:28.912Z"
    },
    "collapsed": false
   },
   "outputs": [],
   "source": [
    "module.drivers  <- lapply(groups(modules), function(x) {\n",
    "    id2symbol %>% filter(GeneId %in% x) %>% .$Symbol %>% intersect(drivers) %>% length\n",
    "}) %>% unlist\n",
    "head(module.drivers)"
   ]
  },
  {
   "cell_type": "code",
   "execution_count": null,
   "metadata": {
    "ExecuteTime": {
     "start_time": "2017-03-28T15:44:28.916Z"
    },
    "collapsed": false
   },
   "outputs": [],
   "source": [
    "# modules with a geneset assigned\n",
    "module.test %>%\n",
    "    filter(padj < 0.05) %>%\n",
    "    select(Module) %>%\n",
    "    unique %>%\n",
    "    nrow\n",
    "# total number of modules\n",
    "length(modules)"
   ]
  },
  {
   "cell_type": "code",
   "execution_count": null,
   "metadata": {
    "ExecuteTime": {
     "start_time": "2017-03-28T15:44:28.921Z"
    },
    "collapsed": false
   },
   "outputs": [],
   "source": [
    "# number of genesets\n",
    "sum(module.test$padj < 0.05)"
   ]
  },
  {
   "cell_type": "code",
   "execution_count": null,
   "metadata": {
    "ExecuteTime": {
     "start_time": "2017-03-28T15:44:28.924Z"
    },
    "collapsed": false
   },
   "outputs": [],
   "source": [
    "# size of the significant genesets\n",
    "module.test %>%\n",
    "    filter(padj < 0.05) %>%\n",
    "    select(Geneset,Geneset_size) %>%\n",
    "    unique %>%\n",
    "    .$Geneset_size %>% \n",
    "    summary"
   ]
  }
 ],
 "metadata": {
  "kernelspec": {
   "display_name": "R",
   "language": "R",
   "name": "ir"
  },
  "language_info": {
   "codemirror_mode": "r",
   "file_extension": ".r",
   "mimetype": "text/x-r-source",
   "name": "R",
   "pygments_lexer": "r",
   "version": "3.3.2"
  },
  "toc": {
   "toc_cell": false,
   "toc_number_sections": true,
   "toc_threshold": 6,
   "toc_window_display": false
  }
 },
 "nbformat": 4,
 "nbformat_minor": 0
}
