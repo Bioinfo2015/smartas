{
 "cells": [
  {
   "cell_type": "code",
   "execution_count": 1,
   "metadata": {
    "ExecuteTime": {
     "end_time": "2017-03-31T15:25:14.477527",
     "start_time": "2017-03-31T13:25:04.182Z"
    },
    "collapsed": false
   },
   "outputs": [
    {
     "name": "stderr",
     "output_type": "stream",
     "text": [
      "Loading tidyverse: ggplot2\n",
      "Loading tidyverse: tibble\n",
      "Loading tidyverse: tidyr\n",
      "Loading tidyverse: readr\n",
      "Loading tidyverse: purrr\n",
      "Loading tidyverse: dplyr\n",
      "Conflicts with tidy packages ---------------------------------------------------\n",
      "filter(): dplyr, stats\n",
      "lag():    dplyr, stats\n"
     ]
    }
   ],
   "source": [
    "source(\"../data/env/variables.R\")\n",
    "source(\"~/projects/wisdom/r/data_analysis_environment.R\")\n",
    "\n",
    "options(\"readr.num_columns\" = 0)\n",
    "\n",
    "switches <- read_tsv(\"../results/supplementary_files/supplementary_file_1.tsv\") \n",
    "ppi <- read_tsv(\"../results/supplementary_files/supplementary_file_4.tsv\") %>%\n",
    "    merge(switches %>% filter(PPI==1) %>% select(Normal_transcript,Tumor_transcript)) %>%\n",
    "    # pick cases were PPI was described\n",
    "    filter(!is.na(Pfam_id_partner))\n",
    "\n",
    "ppi.all <- read_tsv(\"../results/supplementary_files/supplementary_file_4.tsv\") %>%\n",
    "    merge(switches %>% select(Normal_transcript,Tumor_transcript)) %>%\n",
    "    # pick cases were PPI was described\n",
    "    filter(!is.na(Pfam_id_partner))"
   ]
  },
  {
   "cell_type": "code",
   "execution_count": 2,
   "metadata": {
    "ExecuteTime": {
     "end_time": "2017-03-31T15:25:14.544969",
     "start_time": "2017-03-31T13:25:04.187Z"
    },
    "collapsed": false
   },
   "outputs": [
    {
     "data": {
      "text/html": [
       "1688"
      ],
      "text/latex": [
       "1688"
      ],
      "text/markdown": [
       "1688"
      ],
      "text/plain": [
       "[1] 1688"
      ]
     },
     "metadata": {},
     "output_type": "display_data"
    },
    {
     "data": {
      "text/html": [
       "1355"
      ],
      "text/latex": [
       "1355"
      ],
      "text/markdown": [
       "1355"
      ],
      "text/plain": [
       "[1] 1355"
      ]
     },
     "metadata": {},
     "output_type": "display_data"
    }
   ],
   "source": [
    "# no switches with ppi described\n",
    "ppi.all %>% select(Normal_transcript,Tumor_transcript) %>% unique %>% nrow\n",
    "\n",
    "# no genes\n",
    "ppi.all %>% select(GeneId) %>% unique %>% nrow"
   ]
  },
  {
   "cell_type": "code",
   "execution_count": 3,
   "metadata": {
    "ExecuteTime": {
     "end_time": "2017-03-31T15:25:14.953506",
     "start_time": "2017-03-31T13:25:04.194Z"
    },
    "collapsed": false
   },
   "outputs": [
    {
     "data": {
      "text/html": [
       "162"
      ],
      "text/latex": [
       "162"
      ],
      "text/markdown": [
       "162"
      ],
      "text/plain": [
       "[1] 162"
      ]
     },
     "metadata": {},
     "output_type": "display_data"
    },
    {
     "data": {
      "text/html": [
       "123"
      ],
      "text/latex": [
       "123"
      ],
      "text/markdown": [
       "123"
      ],
      "text/plain": [
       "[1] 123"
      ]
     },
     "metadata": {},
     "output_type": "display_data"
    }
   ],
   "source": [
    "# no switches with ppi described in a driver\n",
    "switches %>% filter(Driver==1) %>% select(Normal_transcript,Tumor_transcript) %>%\n",
    "    merge(ppi.all) %>%\n",
    "    select(Normal_transcript,Tumor_transcript) %>% unique %>% nrow\n",
    "\n",
    "# no genes\n",
    "switches %>% filter(Driver==1) %>% select(Normal_transcript,Tumor_transcript) %>%\n",
    "    merge(ppi.all) %>%\n",
    "    select(GeneId) %>% unique %>% nrow"
   ]
  },
  {
   "cell_type": "code",
   "execution_count": 4,
   "metadata": {
    "ExecuteTime": {
     "end_time": "2017-03-31T15:25:15.729105",
     "start_time": "2017-03-31T13:25:04.200Z"
    },
    "collapsed": false
   },
   "outputs": [
    {
     "data": {
      "text/html": [
       "1526"
      ],
      "text/latex": [
       "1526"
      ],
      "text/markdown": [
       "1526"
      ],
      "text/plain": [
       "[1] 1526"
      ]
     },
     "metadata": {},
     "output_type": "display_data"
    },
    {
     "data": {
      "text/html": [
       "1232"
      ],
      "text/latex": [
       "1232"
      ],
      "text/markdown": [
       "1232"
      ],
      "text/plain": [
       "[1] 1232"
      ]
     },
     "metadata": {},
     "output_type": "display_data"
    }
   ],
   "source": [
    "# no switches with ppi described in non-drivers\n",
    "switches %>% filter(Driver==0) %>% select(Normal_transcript,Tumor_transcript) %>%\n",
    "    merge(ppi.all) %>%\n",
    "    select(Normal_transcript,Tumor_transcript) %>% unique %>% nrow\n",
    "\n",
    "# no genes\n",
    "switches %>% filter(Driver==0) %>% select(Normal_transcript,Tumor_transcript) %>%\n",
    "    merge(ppi.all) %>%\n",
    "    select(GeneId) %>% unique %>% nrow"
   ]
  },
  {
   "cell_type": "code",
   "execution_count": 5,
   "metadata": {
    "ExecuteTime": {
     "end_time": "2017-03-31T15:25:15.776898",
     "start_time": "2017-03-31T13:25:04.207Z"
    },
    "collapsed": false
   },
   "outputs": [
    {
     "data": {
      "text/html": [
       "477"
      ],
      "text/latex": [
       "477"
      ],
      "text/markdown": [
       "477"
      ],
      "text/plain": [
       "[1] 477"
      ]
     },
     "metadata": {},
     "output_type": "display_data"
    },
    {
     "data": {
      "text/html": [
       "423"
      ],
      "text/latex": [
       "423"
      ],
      "text/markdown": [
       "423"
      ],
      "text/plain": [
       "[1] 423"
      ]
     },
     "metadata": {},
     "output_type": "display_data"
    }
   ],
   "source": [
    "# no switches that affect PPI\n",
    "switches %>% filter(PPI==1) %>% select(Normal_transcript,Tumor_transcript) %>% nrow\n",
    "# no genes\n",
    "switches %>% filter(PPI==1) %>% select(GeneId) %>% unique %>% nrow"
   ]
  },
  {
   "cell_type": "code",
   "execution_count": 6,
   "metadata": {
    "ExecuteTime": {
     "end_time": "2017-03-31T15:25:16.049124",
     "start_time": "2017-03-31T13:25:04.213Z"
    },
    "collapsed": false
   },
   "outputs": [
    {
     "data": {
      "text/html": [
       "<table>\n",
       "<thead><tr><th scope=col>nEffects</th><th scope=col>Effect</th><th scope=col>n</th></tr></thead>\n",
       "<tbody>\n",
       "\t<tr><td>1        </td><td>Gain     </td><td> 63      </td></tr>\n",
       "\t<tr><td>1        </td><td>Loss     </td><td>413      </td></tr>\n",
       "\t<tr><td>2        </td><td>Loss,Gain</td><td>  1      </td></tr>\n",
       "</tbody>\n",
       "</table>\n"
      ],
      "text/latex": [
       "\\begin{tabular}{r|lll}\n",
       " nEffects & Effect & n\\\\\n",
       "\\hline\n",
       "\t 1         & Gain      &  63      \\\\\n",
       "\t 1         & Loss      & 413      \\\\\n",
       "\t 2         & Loss,Gain &   1      \\\\\n",
       "\\end{tabular}\n"
      ],
      "text/markdown": [
       "\n",
       "nEffects | Effect | n | \n",
       "|---|---|---|\n",
       "| 1         | Gain      |  63       | \n",
       "| 1         | Loss      | 413       | \n",
       "| 2         | Loss,Gain |   1       | \n",
       "\n",
       "\n"
      ],
      "text/plain": [
       "  nEffects Effect    n  \n",
       "1 1        Gain       63\n",
       "2 1        Loss      413\n",
       "3 2        Loss,Gain   1"
      ]
     },
     "metadata": {},
     "output_type": "display_data"
    }
   ],
   "source": [
    "# count number of losses and gains\n",
    "ppi %>% \n",
    "    filter(Effect_on_interaction != \"Unaffected\") %>% \n",
    "    group_by(Normal_transcript,Tumor_transcript) %>% \n",
    "    summarise(nEffects = unique(Effect_on_interaction) %>% length, \n",
    "              Effect = unique(Effect_on_interaction) %>% paste(collapse=\",\")) %>%\n",
    "    ungroup() %>%\n",
    "    count(nEffects,Effect)"
   ]
  },
  {
   "cell_type": "code",
   "execution_count": 7,
   "metadata": {
    "ExecuteTime": {
     "end_time": "2017-03-31T15:25:16.134670",
     "start_time": "2017-03-31T13:25:04.224Z"
    },
    "collapsed": false
   },
   "outputs": [
    {
     "data": {
      "text/html": [
       "<table>\n",
       "<thead><tr><th scope=col>nEffects</th><th scope=col>Effect</th><th scope=col>n</th></tr></thead>\n",
       "<tbody>\n",
       "\t<tr><td>1   </td><td>Gain</td><td> 8  </td></tr>\n",
       "\t<tr><td>1   </td><td>Loss</td><td>33  </td></tr>\n",
       "</tbody>\n",
       "</table>\n"
      ],
      "text/latex": [
       "\\begin{tabular}{r|lll}\n",
       " nEffects & Effect & n\\\\\n",
       "\\hline\n",
       "\t 1    & Gain &  8  \\\\\n",
       "\t 1    & Loss & 33  \\\\\n",
       "\\end{tabular}\n"
      ],
      "text/markdown": [
       "\n",
       "nEffects | Effect | n | \n",
       "|---|---|\n",
       "| 1    | Gain |  8   | \n",
       "| 1    | Loss | 33   | \n",
       "\n",
       "\n"
      ],
      "text/plain": [
       "  nEffects Effect n \n",
       "1 1        Gain    8\n",
       "2 1        Loss   33"
      ]
     },
     "metadata": {},
     "output_type": "display_data"
    }
   ],
   "source": [
    "# count number of losses and gains in drivers\n",
    "switches %>% filter(Driver==1) %>% select(Normal_transcript,Tumor_transcript) %>%\n",
    "    merge(ppi) %>%\n",
    "    filter(Effect_on_interaction != \"Unaffected\") %>% \n",
    "    group_by(Normal_transcript,Tumor_transcript) %>% \n",
    "    summarise(nEffects = unique(Effect_on_interaction) %>% length, \n",
    "              Effect = unique(Effect_on_interaction) %>% paste(collapse=\",\")) %>%\n",
    "    ungroup() %>%\n",
    "    count(nEffects,Effect)"
   ]
  },
  {
   "cell_type": "code",
   "execution_count": 8,
   "metadata": {
    "ExecuteTime": {
     "end_time": "2017-03-31T15:25:16.502578",
     "start_time": "2017-03-31T13:25:04.233Z"
    },
    "collapsed": false
   },
   "outputs": [
    {
     "data": {
      "text/html": [
       "<table>\n",
       "<thead><tr><th scope=col>nEffects</th><th scope=col>Effect</th><th scope=col>n</th></tr></thead>\n",
       "<tbody>\n",
       "\t<tr><td>1        </td><td>Gain     </td><td> 55      </td></tr>\n",
       "\t<tr><td>1        </td><td>Loss     </td><td>380      </td></tr>\n",
       "\t<tr><td>2        </td><td>Loss,Gain</td><td>  1      </td></tr>\n",
       "</tbody>\n",
       "</table>\n"
      ],
      "text/latex": [
       "\\begin{tabular}{r|lll}\n",
       " nEffects & Effect & n\\\\\n",
       "\\hline\n",
       "\t 1         & Gain      &  55      \\\\\n",
       "\t 1         & Loss      & 380      \\\\\n",
       "\t 2         & Loss,Gain &   1      \\\\\n",
       "\\end{tabular}\n"
      ],
      "text/markdown": [
       "\n",
       "nEffects | Effect | n | \n",
       "|---|---|---|\n",
       "| 1         | Gain      |  55       | \n",
       "| 1         | Loss      | 380       | \n",
       "| 2         | Loss,Gain |   1       | \n",
       "\n",
       "\n"
      ],
      "text/plain": [
       "  nEffects Effect    n  \n",
       "1 1        Gain       55\n",
       "2 1        Loss      380\n",
       "3 2        Loss,Gain   1"
      ]
     },
     "metadata": {},
     "output_type": "display_data"
    }
   ],
   "source": [
    "# count number of losses and gains in non-drivers\n",
    "switches %>% filter(Driver==0) %>% select(Normal_transcript,Tumor_transcript) %>%\n",
    "    merge(ppi) %>%\n",
    "    filter(Effect_on_interaction != \"Unaffected\") %>% \n",
    "    group_by(Normal_transcript,Tumor_transcript) %>% \n",
    "    summarise(nEffects = unique(Effect_on_interaction) %>% length, \n",
    "              Effect = unique(Effect_on_interaction) %>% paste(collapse=\",\")) %>%\n",
    "    ungroup() %>%\n",
    "    count(nEffects,Effect)"
   ]
  }
 ],
 "metadata": {
  "kernelspec": {
   "display_name": "R",
   "language": "R",
   "name": "ir"
  },
  "language_info": {
   "codemirror_mode": "r",
   "file_extension": ".r",
   "mimetype": "text/x-r-source",
   "name": "R",
   "pygments_lexer": "r",
   "version": "3.3.2"
  },
  "toc": {
   "toc_cell": false,
   "toc_number_sections": true,
   "toc_threshold": 6,
   "toc_window_display": false
  }
 },
 "nbformat": 4,
 "nbformat_minor": 0
}
