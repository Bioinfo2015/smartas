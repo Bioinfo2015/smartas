{
 "cells": [
  {
   "cell_type": "code",
   "execution_count": 1,
   "metadata": {
    "ExecuteTime": {
     "end_time": "2016-08-30T20:43:47.739869",
     "start_time": "2016-08-30T18:43:18.602Z"
    },
    "collapsed": false
   },
   "outputs": [
    {
     "name": "stderr",
     "output_type": "stream",
     "text": [
      "\n",
      "Attaching package: ‘dplyr’\n",
      "\n",
      "The following objects are masked from ‘package:data.table’:\n",
      "\n",
      "    between, last\n",
      "\n",
      "The following objects are masked from ‘package:stats’:\n",
      "\n",
      "    filter, lag\n",
      "\n",
      "The following objects are masked from ‘package:base’:\n",
      "\n",
      "    intersect, setdiff, setequal, union\n",
      "\n",
      "\n",
      "Attaching package: ‘magrittr’\n",
      "\n",
      "The following object is masked from ‘package:tidyr’:\n",
      "\n",
      "    extract\n",
      "\n"
     ]
    }
   ],
   "source": [
    "source(\"../data/env/variables.R\")\n",
    "source(\"~/wisdom/r/data_analysis_environment.R\")\n",
    "\n",
    "switches <- read_tsv(\"../results/supplementary_files/supplementary_file_1.tsv\")    \n",
    "ppi <- read_tsv(\"../results/supplementary_files/supplementary_file_3.tsv\") %>%\n",
    "    merge(switches %>% filter(PPI==1) %>% select(Normal_transcript,Tumor_transcript)) %>%\n",
    "    # pick cases were PPI was described\n",
    "    filter(!is.na(Pfam_id_partner))\n",
    "\n",
    "ppi.all <- read_tsv(\"../results/supplementary_files/supplementary_file_3.tsv\") %>%\n",
    "    merge(switches %>% select(Normal_transcript,Tumor_transcript)) %>%\n",
    "    # pick cases were PPI was described\n",
    "    filter(!is.na(Pfam_id_partner))"
   ]
  },
  {
   "cell_type": "code",
   "execution_count": 2,
   "metadata": {
    "ExecuteTime": {
     "end_time": "2016-08-30T20:43:47.883348",
     "start_time": "2016-08-30T18:43:18.615Z"
    },
    "collapsed": false
   },
   "outputs": [
    {
     "data": {
      "text/html": [
       "1896"
      ],
      "text/latex": [
       "1896"
      ],
      "text/markdown": [
       "1896"
      ],
      "text/plain": [
       "[1] 1896"
      ]
     },
     "execution_count": 2,
     "metadata": {},
     "output_type": "execute_result"
    },
    {
     "data": {
      "text/html": [
       "1488"
      ],
      "text/latex": [
       "1488"
      ],
      "text/markdown": [
       "1488"
      ],
      "text/plain": [
       "[1] 1488"
      ]
     },
     "execution_count": 2,
     "metadata": {},
     "output_type": "execute_result"
    }
   ],
   "source": [
    "# no switches with ppi described\n",
    "ppi.all %>% select(Normal_transcript,Tumor_transcript) %>% unique %>% nrow\n",
    "\n",
    "# no genes\n",
    "ppi.all %>% select(GeneId) %>% unique %>% nrow"
   ]
  },
  {
   "cell_type": "code",
   "execution_count": 3,
   "metadata": {
    "ExecuteTime": {
     "end_time": "2016-08-30T20:43:49.721997",
     "start_time": "2016-08-30T18:43:18.622Z"
    },
    "collapsed": false
   },
   "outputs": [
    {
     "data": {
      "text/html": [
       "186"
      ],
      "text/latex": [
       "186"
      ],
      "text/markdown": [
       "186"
      ],
      "text/plain": [
       "[1] 186"
      ]
     },
     "execution_count": 3,
     "metadata": {},
     "output_type": "execute_result"
    },
    {
     "data": {
      "text/html": [
       "137"
      ],
      "text/latex": [
       "137"
      ],
      "text/markdown": [
       "137"
      ],
      "text/plain": [
       "[1] 137"
      ]
     },
     "execution_count": 3,
     "metadata": {},
     "output_type": "execute_result"
    }
   ],
   "source": [
    "# no switches with ppi described in a driver\n",
    "switches %>% filter(Driver==1) %>% select(Normal_transcript,Tumor_transcript) %>%\n",
    "    merge(ppi.all) %>%\n",
    "    select(Normal_transcript,Tumor_transcript) %>% unique %>% nrow\n",
    "\n",
    "# no genes\n",
    "switches %>% filter(Driver==1) %>% select(Normal_transcript,Tumor_transcript) %>%\n",
    "    merge(ppi.all) %>%\n",
    "    select(GeneId) %>% unique %>% nrow"
   ]
  },
  {
   "cell_type": "code",
   "execution_count": 4,
   "metadata": {
    "ExecuteTime": {
     "end_time": "2016-08-30T20:43:55.029796",
     "start_time": "2016-08-30T18:43:18.628Z"
    },
    "collapsed": false
   },
   "outputs": [
    {
     "data": {
      "text/html": [
       "1710"
      ],
      "text/latex": [
       "1710"
      ],
      "text/markdown": [
       "1710"
      ],
      "text/plain": [
       "[1] 1710"
      ]
     },
     "execution_count": 4,
     "metadata": {},
     "output_type": "execute_result"
    },
    {
     "data": {
      "text/html": [
       "1351"
      ],
      "text/latex": [
       "1351"
      ],
      "text/markdown": [
       "1351"
      ],
      "text/plain": [
       "[1] 1351"
      ]
     },
     "execution_count": 4,
     "metadata": {},
     "output_type": "execute_result"
    }
   ],
   "source": [
    "# no switches with ppi described in non-drivers\n",
    "switches %>% filter(Driver==0) %>% select(Normal_transcript,Tumor_transcript) %>%\n",
    "    merge(ppi.all) %>%\n",
    "    select(Normal_transcript,Tumor_transcript) %>% unique %>% nrow\n",
    "\n",
    "# no genes\n",
    "switches %>% filter(Driver==0) %>% select(Normal_transcript,Tumor_transcript) %>%\n",
    "    merge(ppi.all) %>%\n",
    "    select(GeneId) %>% unique %>% nrow"
   ]
  },
  {
   "cell_type": "code",
   "execution_count": 5,
   "metadata": {
    "ExecuteTime": {
     "end_time": "2016-08-30T20:43:55.099593",
     "start_time": "2016-08-30T18:43:18.635Z"
    },
    "collapsed": false
   },
   "outputs": [
    {
     "data": {
      "text/html": [
       "553"
      ],
      "text/latex": [
       "553"
      ],
      "text/markdown": [
       "553"
      ],
      "text/plain": [
       "[1] 553"
      ]
     },
     "execution_count": 5,
     "metadata": {},
     "output_type": "execute_result"
    },
    {
     "data": {
      "text/html": [
       "488"
      ],
      "text/latex": [
       "488"
      ],
      "text/markdown": [
       "488"
      ],
      "text/plain": [
       "[1] 488"
      ]
     },
     "execution_count": 5,
     "metadata": {},
     "output_type": "execute_result"
    }
   ],
   "source": [
    "# no switches that affect PPI\n",
    "switches %>% filter(PPI==1) %>% select(Normal_transcript,Tumor_transcript) %>% nrow\n",
    "# no genes\n",
    "switches %>% filter(PPI==1) %>% select(GeneId) %>% unique %>% nrow"
   ]
  },
  {
   "cell_type": "code",
   "execution_count": 6,
   "metadata": {
    "ExecuteTime": {
     "end_time": "2016-08-30T20:43:55.648467",
     "start_time": "2016-08-30T18:43:18.645Z"
    },
    "collapsed": false
   },
   "outputs": [
    {
     "data": {
      "text/html": [
       "<table>\n",
       "<thead><tr><th></th><th scope=col>nEffects</th><th scope=col>Effect</th><th scope=col>n</th></tr></thead>\n",
       "<tbody>\n",
       "\t<tr><th scope=row>1</th><td>1</td><td>Gain</td><td>79</td></tr>\n",
       "\t<tr><th scope=row>2</th><td>1</td><td>Loss</td><td>473</td></tr>\n",
       "\t<tr><th scope=row>3</th><td>2</td><td>Loss,Gain</td><td>1</td></tr>\n",
       "</tbody>\n",
       "</table>\n"
      ],
      "text/latex": [
       "\\begin{tabular}{r|lll}\n",
       "  & nEffects & Effect & n\\\\\n",
       "\\hline\n",
       "\t1 & 1 & Gain & 79\\\\\n",
       "\t2 & 1 & Loss & 473\\\\\n",
       "\t3 & 2 & Loss,Gain & 1\\\\\n",
       "\\end{tabular}\n"
      ],
      "text/plain": [
       "Source: local data frame [3 x 3]\n",
       "Groups: nEffects [?]\n",
       "\n",
       "  nEffects    Effect     n\n",
       "     (int)     (chr) (int)\n",
       "1        1      Gain    79\n",
       "2        1      Loss   473\n",
       "3        2 Loss,Gain     1"
      ]
     },
     "execution_count": 6,
     "metadata": {},
     "output_type": "execute_result"
    }
   ],
   "source": [
    "# count number of losses and gains\n",
    "ppi %>% \n",
    "    filter(Effect_on_interaction != \"Unaffected\") %>% \n",
    "    group_by(Normal_transcript,Tumor_transcript) %>% \n",
    "    summarise(nEffects = unique(Effect_on_interaction) %>% length, \n",
    "              Effect = unique(Effect_on_interaction) %>% paste(collapse=\",\")) %>%\n",
    "    count(nEffects,Effect)"
   ]
  },
  {
   "cell_type": "code",
   "execution_count": 7,
   "metadata": {
    "ExecuteTime": {
     "end_time": "2016-08-30T20:43:55.908813",
     "start_time": "2016-08-30T18:43:18.655Z"
    },
    "collapsed": false
   },
   "outputs": [
    {
     "data": {
      "text/html": [
       "<table>\n",
       "<thead><tr><th></th><th scope=col>nEffects</th><th scope=col>Effect</th><th scope=col>n</th></tr></thead>\n",
       "<tbody>\n",
       "\t<tr><th scope=row>1</th><td>1</td><td>Gain</td><td>9</td></tr>\n",
       "\t<tr><th scope=row>2</th><td>1</td><td>Loss</td><td>42</td></tr>\n",
       "</tbody>\n",
       "</table>\n"
      ],
      "text/latex": [
       "\\begin{tabular}{r|lll}\n",
       "  & nEffects & Effect & n\\\\\n",
       "\\hline\n",
       "\t1 & 1 & Gain & 9\\\\\n",
       "\t2 & 1 & Loss & 42\\\\\n",
       "\\end{tabular}\n"
      ],
      "text/plain": [
       "Source: local data frame [2 x 3]\n",
       "Groups: nEffects [?]\n",
       "\n",
       "  nEffects Effect     n\n",
       "     (int)  (chr) (int)\n",
       "1        1   Gain     9\n",
       "2        1   Loss    42"
      ]
     },
     "execution_count": 7,
     "metadata": {},
     "output_type": "execute_result"
    }
   ],
   "source": [
    "# count number of losses and gains in drivers\n",
    "switches %>% filter(Driver==1) %>% select(Normal_transcript,Tumor_transcript) %>%\n",
    "    merge(ppi) %>%\n",
    "    filter(Effect_on_interaction != \"Unaffected\") %>% \n",
    "    group_by(Normal_transcript,Tumor_transcript) %>% \n",
    "    summarise(nEffects = unique(Effect_on_interaction) %>% length, \n",
    "              Effect = unique(Effect_on_interaction) %>% paste(collapse=\",\")) %>%\n",
    "    count(nEffects,Effect)"
   ]
  },
  {
   "cell_type": "code",
   "execution_count": 8,
   "metadata": {
    "ExecuteTime": {
     "end_time": "2016-08-30T20:43:57.158900",
     "start_time": "2016-08-30T18:43:18.670Z"
    },
    "collapsed": false
   },
   "outputs": [
    {
     "data": {
      "text/html": [
       "<table>\n",
       "<thead><tr><th></th><th scope=col>nEffects</th><th scope=col>Effect</th><th scope=col>n</th></tr></thead>\n",
       "<tbody>\n",
       "\t<tr><th scope=row>1</th><td>1</td><td>Gain</td><td>70</td></tr>\n",
       "\t<tr><th scope=row>2</th><td>1</td><td>Loss</td><td>431</td></tr>\n",
       "\t<tr><th scope=row>3</th><td>2</td><td>Loss,Gain</td><td>1</td></tr>\n",
       "</tbody>\n",
       "</table>\n"
      ],
      "text/latex": [
       "\\begin{tabular}{r|lll}\n",
       "  & nEffects & Effect & n\\\\\n",
       "\\hline\n",
       "\t1 & 1 & Gain & 70\\\\\n",
       "\t2 & 1 & Loss & 431\\\\\n",
       "\t3 & 2 & Loss,Gain & 1\\\\\n",
       "\\end{tabular}\n"
      ],
      "text/plain": [
       "Source: local data frame [3 x 3]\n",
       "Groups: nEffects [?]\n",
       "\n",
       "  nEffects    Effect     n\n",
       "     (int)     (chr) (int)\n",
       "1        1      Gain    70\n",
       "2        1      Loss   431\n",
       "3        2 Loss,Gain     1"
      ]
     },
     "execution_count": 8,
     "metadata": {},
     "output_type": "execute_result"
    }
   ],
   "source": [
    "# count number of losses and gains in non-drivers\n",
    "switches %>% filter(Driver==0) %>% select(Normal_transcript,Tumor_transcript) %>%\n",
    "    merge(ppi) %>%\n",
    "    filter(Effect_on_interaction != \"Unaffected\") %>% \n",
    "    group_by(Normal_transcript,Tumor_transcript) %>% \n",
    "    summarise(nEffects = unique(Effect_on_interaction) %>% length, \n",
    "              Effect = unique(Effect_on_interaction) %>% paste(collapse=\",\")) %>%\n",
    "    count(nEffects,Effect)"
   ]
  }
 ],
 "metadata": {
  "kernelspec": {
   "display_name": "R",
   "language": "R",
   "name": "ir"
  },
  "language_info": {
   "codemirror_mode": "r",
   "file_extension": ".r",
   "mimetype": "text/x-r-source",
   "name": "R",
   "pygments_lexer": "r",
   "version": "3.3.2"
  },
  "toc": {
   "toc_cell": false,
   "toc_number_sections": true,
   "toc_threshold": 6,
   "toc_window_display": false
  }
 },
 "nbformat": 4,
 "nbformat_minor": 0
}
