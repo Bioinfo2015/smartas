{
 "cells": [
  {
   "cell_type": "code",
   "execution_count": 1,
   "metadata": {
    "ExecuteTime": {
     "end_time": "2017-02-14T12:46:22.144210",
     "start_time": "2017-02-14T11:42:14.189Z"
    },
    "collapsed": false
   },
   "outputs": [
    {
     "name": "stderr",
     "output_type": "stream",
     "text": [
      "Loading tidyverse: ggplot2\n",
      "Loading tidyverse: tibble\n",
      "Loading tidyverse: tidyr\n",
      "Loading tidyverse: readr\n",
      "Loading tidyverse: purrr\n",
      "Loading tidyverse: dplyr\n",
      "Conflicts with tidy packages ---------------------------------------------------\n",
      "arrange():   dplyr, plyr\n",
      "compact():   purrr, plyr\n",
      "count():     dplyr, plyr\n",
      "failwith():  dplyr, plyr\n",
      "filter():    dplyr, stats\n",
      "id():        dplyr, plyr\n",
      "lag():       dplyr, stats\n",
      "mutate():    dplyr, plyr\n",
      "rename():    dplyr, plyr\n",
      "summarise(): dplyr, plyr\n",
      "summarize(): dplyr, plyr\n",
      "\n",
      "Attaching package: ‘magrittr’\n",
      "\n",
      "The following object is masked from ‘package:purrr’:\n",
      "\n",
      "    set_names\n",
      "\n",
      "The following object is masked from ‘package:tidyr’:\n",
      "\n",
      "    extract\n",
      "\n",
      "\n",
      "Attaching package: ‘reshape2’\n",
      "\n",
      "The following object is masked from ‘package:tidyr’:\n",
      "\n",
      "    smiths\n",
      "\n"
     ]
    }
   ],
   "source": [
    "library(plyr)\n",
    "library(tidyverse)\n",
    "library(magrittr)\n",
    "library(reshape2)\n",
    "source(\"../data/env/variables.R\")\n",
    "source(\"~/wisdom/r/clean_theme.R\")\n",
    "library(gtools)\n",
    "library(ggstars)\n",
    "\n",
    "options(\"readr.num_columns\" = 0)\n",
    "\n",
    "# Read switches\n",
    "switches <- read_tsv(\"../data/pancancer/candidateList_full.tumorSplit.tsv\") %>%\n",
    "    filter(EnoughRecurrence == 1 & NotNoise==1 & IsModel==1 & Origin==\"Tumor\")\n",
    "\n",
    "# Read feature information\n",
    "features <- read_tsv(\"../data/mutations/proteome_features.txt\") %>%\n",
    "    filter(Analysis == \"Pfam\")\n",
    "\n",
    "# Read information of the expressed transcripts (TPM>=0.1)\n",
    "proteome <- read_tsv(\"../data/mutations/proteome_information.txt\") %>%\n",
    "    mutate(asEvidence=as.numeric(asEvidence==\"True\"))\n",
    "\n",
    "# Get statistics per feature\n",
    "pfam.agg <- features %>%\n",
    "    # consider splicing information for frequency calculation\n",
    "    merge(proteome) %>%\n",
    "    # count at feature level\n",
    "    group_by(Feature) %>%\n",
    "    summarize(ProteomeCounts=length(Feature)-sum(!asEvidence),  ## remove cases where no as evidence was found\n",
    "              TotalLength = sum(FeatureLength)) %>% ## for mutations we apply no filter\n",
    "    # get expected frequencies\n",
    "    mutate(ExpectedSwitchFrequency = ProteomeCounts/sum(ProteomeCounts), \n",
    "           ExpectedMutFrequency = TotalLength/sum(TotalLength))\n",
    "\n",
    "# Read structural changes\n",
    "switches.pfam <- read_tsv('../data/structural_analysis/structural_features.onlyModels.tsv') %>%\n",
    "    filter(Random==\"NonRandom\" & Analysis==\"Pfam\" & WhatsHappenning!=\"Nothing\") %>%\n",
    "    # Use switch information to characterize structural information\n",
    "    merge(switches, by=c(\"Tumor\",\"GeneId\",\"Symbol\",\"Normal_transcript\",\"Tumor_transcript\"))"
   ]
  },
  {
   "cell_type": "markdown",
   "metadata": {},
   "source": [
    "## Calculate enrichment in switches"
   ]
  },
  {
   "cell_type": "code",
   "execution_count": 2,
   "metadata": {
    "ExecuteTime": {
     "end_time": "2017-02-14T12:46:33.917448",
     "start_time": "2017-02-14T11:42:14.205Z"
    },
    "collapsed": false
   },
   "outputs": [],
   "source": [
    "get.uniq.switches <- function(genes,ntxs,ttxs,col,value){\n",
    "    as.data.frame(cbind(genes,ntxs,ttxs,col)) %>%\n",
    "        filter(col == value) %>%\n",
    "        unique %>%\n",
    "        nrow\n",
    "}\n",
    "\n",
    "my.binomial.test <- function(x,testNumber){ \n",
    "    if (!is.na(x[1]) & ! is.na(x[2]))\n",
    "        binom.test(x[1],testNumber,x[2],\"greater\")$p.value\n",
    "    else\n",
    "        NA\n",
    "}\n",
    "\n",
    "pfam.switch_info <- switches.pfam %>%\n",
    "    group_by(Feature) %>%\n",
    "    summarize(LostNum = sum((WhatsHappenning==\"Lost_in_tumor\") * PatientNumber), \n",
    "              GainNum = sum((WhatsHappenning==\"Gained_in_tumor\") * PatientNumber), \n",
    "              switches_g = get.uniq.switches(GeneId,Normal_transcript,Tumor_transcript,\n",
    "                                             WhatsHappenning,\"Gained_in_tumor\"),\n",
    "              switches_l = get.uniq.switches(GeneId,Normal_transcript,Tumor_transcript, \n",
    "                                             WhatsHappenning,\"Lost_in_tumor\"))\n",
    "\n",
    "# aggregate switches\n",
    "totalGains <- sum(pfam.switch_info$GainNum)\n",
    "totalLosses <- sum(pfam.switch_info$LostNum)\n",
    "\n",
    "# calculate statistics\n",
    "pf <- merge(pfam.agg,pfam.switch_info,all=T) %>%\n",
    "    mutate(fc_g = GainNum/totalGains/ExpectedSwitchFrequency,\n",
    "           fc_l = LostNum/totalLosses/ExpectedSwitchFrequency) %>%\n",
    "    mutate(., \n",
    "           p_g = apply(subset(.,select=c(\"GainNum\",\"ExpectedSwitchFrequency\")),1,my.binomial.test,totalGains),\n",
    "           adjp_g = p.adjust(p_g),\n",
    "           p_l = apply(subset(.,select=c(\"LostNum\",\"ExpectedSwitchFrequency\")),1,my.binomial.test,totalLosses),\n",
    "           adjp_l = p.adjust(p_l),\n",
    "           Name = gsub(\"|\",\"@\",Feature,fixed = T),\n",
    "           Name = gsub(\"_\",\" \",Name,fixed = T),\n",
    "           id = unlist(strsplit(Name,\"@\"))[c(T,F)], \n",
    "           Name = unlist(strsplit(Name,\"@\"))[c(F,T)])"
   ]
  },
  {
   "cell_type": "markdown",
   "metadata": {},
   "source": [
    "Let's check the domains that are significantly enriched in switches and that affect more than one switch. The rationale behind the latter criteria is that if a domain is only affected by one switch, we have no-way to ensure it is domain specific rather than gene-specific."
   ]
  },
  {
   "cell_type": "code",
   "execution_count": 3,
   "metadata": {
    "ExecuteTime": {
     "end_time": "2017-02-14T12:46:33.960914",
     "start_time": "2017-02-14T11:42:14.213Z"
    },
    "collapsed": false
   },
   "outputs": [
    {
     "data": {
      "text/html": [
       "233"
      ],
      "text/latex": [
       "233"
      ],
      "text/markdown": [
       "233"
      ],
      "text/plain": [
       "[1] 233"
      ]
     },
     "metadata": {},
     "output_type": "display_data"
    },
    {
     "data": {
      "text/html": [
       "54"
      ],
      "text/latex": [
       "54"
      ],
      "text/markdown": [
       "54"
      ],
      "text/plain": [
       "[1] 54"
      ]
     },
     "metadata": {},
     "output_type": "display_data"
    }
   ],
   "source": [
    "sum(pf$adjp_l<0.05 & pf$switches_l>1,na.rm=T)\n",
    "sum(pf$adjp_g<0.05 & pf$switches_g>1,na.rm=T)"
   ]
  },
  {
   "cell_type": "markdown",
   "metadata": {},
   "source": [
    "## Description of the domains"
   ]
  },
  {
   "cell_type": "code",
   "execution_count": 4,
   "metadata": {
    "ExecuteTime": {
     "end_time": "2017-02-14T12:46:34.018134",
     "start_time": "2017-02-14T11:42:14.218Z"
    },
    "collapsed": false
   },
   "outputs": [
    {
     "data": {
      "text/plain": [
       "\n",
       "       Both      Gained        Lost Not altered \n",
       "         13          41         220        5025 "
      ]
     },
     "metadata": {},
     "output_type": "display_data"
    }
   ],
   "source": [
    "# plot number of domains in each condition\n",
    "df <- pf\n",
    "\n",
    "df$Tag <- \"Not altered\"\n",
    "df$Tag[df$adjp_g < 0.05 & pf$switches_g>1] <- \"Gained\"\n",
    "df$Tag[df$adjp_l < 0.05 & pf$switches_l>1] <- \"Lost\"\n",
    "df$Tag[df$adjp_g < 0.05  & pf$switches_g>1 & df$adjp_l < 0.05 & pf$switches_l>1] <- \"Both\"\n",
    "\n",
    "table(df$Tag)"
   ]
  },
  {
   "cell_type": "markdown",
   "metadata": {},
   "source": [
    "### Comparison to mutations"
   ]
  },
  {
   "cell_type": "code",
   "execution_count": 5,
   "metadata": {
    "ExecuteTime": {
     "end_time": "2017-02-14T12:46:44.585014",
     "start_time": "2017-02-14T11:42:14.223Z"
    },
    "collapsed": false
   },
   "outputs": [],
   "source": [
    "# Read mutations\n",
    "allMuts <- c(\"Frame_Shift_Del\",\"Frame_Shift_Ins\",\"In_Frame_Del\",\"In_Frame_Ins\",\"Missense_Mutation\",\n",
    "             \"Nonsense_Mutation\",\"Nonstop_Mutation\",\"Frame_Shift_Del_out\",\"Frame_Shift_Ins_out\",\n",
    "             \"Nonsense_Mutation_out\")\n",
    "inFeatureMuts <- c(\"Frame_Shift_Del\",\"Frame_Shift_Ins\",\"In_Frame_Del\",\"In_Frame_Ins\",\n",
    "                   \"Missense_Mutation\",\"Nonsense_Mutation\",\"Nonstop_Mutation\")\n",
    "\n",
    "## calculate total mutations per domain\n",
    "proteome.muts <- read_tsv(\"../data/mutations/proteome_mutations.txt\") %>%\n",
    "    filter(Analysis==\"Pfam\") %>%\n",
    "    # convert from long format to wide format\n",
    "    dcast(formula=Feature+Tumor+Transcript~Type, value.var=\"Patient\",fun.aggregate=length) %>%\n",
    "    group_by(Feature) %>%\n",
    "    summarise(Frame_Shift_Del = sum(Frame_Shift_Del),\n",
    "              Frame_Shift_Ins = sum(Frame_Shift_Ins),\n",
    "              In_Frame_Del = sum(In_Frame_Del),\n",
    "              In_Frame_Ins = sum(In_Frame_Ins),\n",
    "              Missense_Mutation = sum(Missense_Mutation),\n",
    "              Nonsense_Mutation = sum(Nonsense_Mutation),\n",
    "              Nonstop_Mutation = sum(Nonstop_Mutation),\n",
    "              Frame_Shift_Del_out = sum(Frame_Shift_Del_out),\n",
    "              Frame_Shift_Ins_out = sum(Frame_Shift_Ins_out),\n",
    "              Nonsense_Mutation_out = sum(Nonsense_Mutation_out)) %>%\n",
    "    mutate(TotalMutations = rowSums(.[,inFeatureMuts]))\n",
    "\n",
    "# enrichment test\n",
    "pf.m <- merge(pfam.agg,proteome.muts) %>%\n",
    "    mutate(fc_m = TotalMutations/sum(TotalMutations)/ExpectedMutFrequency,\n",
    "           p_m = apply(.[,c(\"TotalMutations\",\"ExpectedMutFrequency\")],1, my.binomial.test, sum(TotalMutations)),\n",
    "           adjp_m = p.adjust(p_m))\n",
    "\n",
    "# create table with all the analysis\n",
    "pf.all <- merge(pf,pf.m,all=T)\n",
    "\n",
    "# save results\n",
    "pf.all %>% \n",
    "    select(id,Feature,ProteomeCounts,ExpectedSwitchFrequency,LostNum,GainNum,\n",
    "           fc_g,fc_l,fc_m,p_g,adjp_g,p_l,adjp_l,p_m,adjp_m,switches_g,switches_l) %>%\n",
    "    write_tsv(\"../results/pfam_enrichment_analysis.tsv\")"
   ]
  },
  {
   "cell_type": "code",
   "execution_count": 6,
   "metadata": {
    "ExecuteTime": {
     "end_time": "2017-02-14T12:46:44.654800",
     "start_time": "2017-02-14T11:42:14.228Z"
    },
    "collapsed": false
   },
   "outputs": [
    {
     "data": {
      "text/html": [
       "76"
      ],
      "text/latex": [
       "76"
      ],
      "text/markdown": [
       "76"
      ],
      "text/plain": [
       "[1] 76"
      ]
     },
     "metadata": {},
     "output_type": "display_data"
    }
   ],
   "source": [
    "sum(pf.m$adjp_m < 0.05)"
   ]
  },
  {
   "cell_type": "code",
   "execution_count": 7,
   "metadata": {
    "ExecuteTime": {
     "end_time": "2017-02-14T12:46:51.591791",
     "start_time": "2017-02-14T11:42:14.238Z"
    },
    "collapsed": false
   },
   "outputs": [
    {
     "data": {
      "text/plain": [
       "\n",
       "\tFisher's Exact Test for Count Data\n",
       "\n",
       "data:  g\n",
       "p-value = 0.1094\n",
       "alternative hypothesis: true odds ratio is not equal to 1\n",
       "95 percent confidence interval:\n",
       " 0.947951 1.572503\n",
       "sample estimates:\n",
       "odds ratio \n",
       "  1.226941 \n"
      ]
     },
     "metadata": {},
     "output_type": "display_data"
    },
    {
     "data": {
      "text/plain": [
       "           Driver\n",
       "HasMFeature FALSE  TRUE\n",
       "          0 12937   356\n",
       "          1  2399    81"
      ]
     },
     "metadata": {},
     "output_type": "display_data"
    },
    {
     "data": {
      "text/plain": [
       "\n",
       "\tWilcoxon rank sum test with continuity correction\n",
       "\n",
       "data:  d$Driver[d$M_feature] and d$Driver[!d$M_feature]\n",
       "W = 273890, p-value < 2.2e-16\n",
       "alternative hypothesis: true location shift is not equal to 0\n"
      ]
     },
     "metadata": {},
     "output_type": "display_data"
    },
    {
     "name": "stderr",
     "output_type": "stream",
     "text": [
      "Loading required package: RColorBrewer\n"
     ]
    },
    {
     "data": {},
     "metadata": {},
     "output_type": "display_data"
    },
    {
     "data": {
      "image/png": "[encoded data removed]",
      "text/plain": [
       "plot without title"
      ]
     },
     "metadata": {},
     "output_type": "display_data"
    }
   ],
   "source": [
    "# check if M features have a higher tendency to affect mutational drivers\n",
    "drivers <- read_tsv(\"../data/intogen_cancer_drivers-2014.12b/Mutational_drivers_per_tumor_type.tsv\",comment=\"#\") %>%\n",
    "    set_colnames(c(\"Symbol\",\"Tumor\")) %>%\n",
    "    mutate(Driver=TRUE)\n",
    "\n",
    "# classify genes based on if they have an M_feature\n",
    "g <- features %>%\n",
    "    mutate(M_feature = Feature %in% pf.all$Feature[pf.all$adjp_m < 0.05]) %>%\n",
    "    group_by(GeneId, Symbol) %>%\n",
    "    summarise(HasMFeature = max(M_feature)) %>%\n",
    "    mutate(Driver = Symbol %in% drivers$Symbol) %>%\n",
    "    ungroup %>%\n",
    "    select(HasMFeature,Driver) %>%\n",
    "    table\n",
    "\n",
    "fisher.test(g)\n",
    "g\n",
    "\n",
    "# get the proportion of the domain occurrences that happen in drivers\n",
    "d <- features %>%\n",
    "    mutate(Driver = Symbol %in% drivers$Symbol) %>%\n",
    "    group_by(Feature) %>%\n",
    "    summarise(Driver = sum(Driver)/n()) %>%\n",
    "    mutate(M_feature = Feature %in% pf.all$Feature[pf.all$adjp_m < 0.05]) %>%\n",
    "    select(M_feature,Driver)\n",
    "\n",
    "wilcox.test(d$Driver[d$M_feature], d$Driver[! d$M_feature])\n",
    "\n",
    "d %>%\n",
    "    ggplot(aes(x = M_feature, y = Driver)) +\n",
    "        geom_boxplot() +\n",
    "        clean_theme()"
   ]
  },
  {
   "cell_type": "code",
   "execution_count": 8,
   "metadata": {
    "ExecuteTime": {
     "end_time": "2017-02-14T12:46:51.694986",
     "start_time": "2017-02-14T11:42:14.246Z"
    },
    "collapsed": false
   },
   "outputs": [
    {
     "data": {
      "text/plain": [
       "\n",
       "\tFisher's Exact Test for Count Data\n",
       "\n",
       "data:  m\n",
       "p-value = 5.637e-06\n",
       "alternative hypothesis: true odds ratio is not equal to 1\n",
       "95 percent confidence interval:\n",
       " 2.451696 8.528224\n",
       "sample estimates:\n",
       "odds ratio \n",
       "  4.710229 \n"
      ]
     },
     "metadata": {},
     "output_type": "display_data"
    },
    {
     "data": {
      "text/html": [
       "<table>\n",
       "<thead><tr><th></th><th scope=col>M</th><th scope=col>NM</th></tr></thead>\n",
       "<tbody>\n",
       "\t<tr><th scope=row>S</th><td>15  </td><td> 259</td></tr>\n",
       "\t<tr><th scope=row>NS</th><td>61  </td><td>4964</td></tr>\n",
       "</tbody>\n",
       "</table>\n"
      ],
      "text/latex": [
       "\\begin{tabular}{r|ll}\n",
       "  & M & NM\\\\\n",
       "\\hline\n",
       "\tS & 15   &  259\\\\\n",
       "\tNS & 61   & 4964\\\\\n",
       "\\end{tabular}\n"
      ],
      "text/markdown": [
       "\n",
       "| <!--/--> | M | NM | \n",
       "|---|---|\n",
       "| S | 15   |  259 | \n",
       "| NS | 61   | 4964 | \n",
       "\n",
       "\n"
      ],
      "text/plain": [
       "   M  NM  \n",
       "S  15  259\n",
       "NS 61 4964"
      ]
     },
     "metadata": {},
     "output_type": "display_data"
    }
   ],
   "source": [
    "M <- pf.all$adjp_m < 0.05\n",
    "M[is.na(M)] <- FALSE\n",
    "L <- pf.all$adjp_l < 0.05 & pf.all$switches_l > 1\n",
    "L[is.na(L)] <- FALSE\n",
    "G <- pf.all$adjp_g < 0.05 & pf.all$switches_g > 1\n",
    "G[is.na(G)] <- FALSE\n",
    "S <- L | G\n",
    "\n",
    "l <- rep(\"N\", nrow(pf.all))\n",
    "l[M] <- \"M\"\n",
    "l[S] <- \"S\"\n",
    "l[M&S] <- \"MS\"\n",
    "\n",
    "m <- matrix(table(l),2,2) %>%\n",
    "    set_colnames(c(\"M\",\"NM\")) %>%\n",
    "    set_rownames(c(\"NS\",\"S\"))\n",
    "\n",
    "m <- m[c(\"S\",\"NS\"),c(\"M\",\"NM\")]\n",
    "fisher.test(m)\n",
    "m"
   ]
  },
  {
   "cell_type": "markdown",
   "metadata": {},
   "source": [
    "There is a higher coincidence than expected by chance. Hence, switches and mutations seem to affect the same protein domains."
   ]
  },
  {
   "cell_type": "code",
   "execution_count": 9,
   "metadata": {
    "ExecuteTime": {
     "end_time": "2017-02-14T12:46:51.791566",
     "start_time": "2017-02-14T11:42:14.254Z"
    },
    "collapsed": false
   },
   "outputs": [
    {
     "data": {
      "text/html": [
       "9"
      ],
      "text/latex": [
       "9"
      ],
      "text/markdown": [
       "9"
      ],
      "text/plain": [
       "[1] 9"
      ]
     },
     "metadata": {},
     "output_type": "display_data"
    },
    {
     "data": {
      "text/html": [
       "8"
      ],
      "text/latex": [
       "8"
      ],
      "text/markdown": [
       "8"
      ],
      "text/plain": [
       "[1] 8"
      ]
     },
     "metadata": {},
     "output_type": "display_data"
    },
    {
     "data": {
      "text/html": [
       "2"
      ],
      "text/latex": [
       "2"
      ],
      "text/markdown": [
       "2"
      ],
      "text/plain": [
       "[1] 2"
      ]
     },
     "metadata": {},
     "output_type": "display_data"
    }
   ],
   "source": [
    "# muts + losses\n",
    "sum(M&L)\n",
    "# muts + gains\n",
    "sum(M&G)\n",
    "# muts + splicing\n",
    "sum(M&L&G)"
   ]
  },
  {
   "cell_type": "code",
   "execution_count": 10,
   "metadata": {
    "ExecuteTime": {
     "end_time": "2017-02-14T12:46:51.851763",
     "start_time": "2017-02-14T11:42:14.262Z"
    },
    "collapsed": false
   },
   "outputs": [
    {
     "data": {
      "text/html": [
       "<table>\n",
       "<thead><tr><th scope=col>Id</th><th scope=col>Name</th></tr></thead>\n",
       "<tbody>\n",
       "\t<tr><td>PF00028                                                 </td><td>Cadherin domain                                         </td></tr>\n",
       "\t<tr><td>PF00041                                                 </td><td>Fibronectin type III domain                             </td></tr>\n",
       "\t<tr><td>PF00071                                                 </td><td>Ras family                                              </td></tr>\n",
       "\t<tr><td>PF00090                                                 </td><td>Thrombospondin type 1 domain                            </td></tr>\n",
       "\t<tr><td>PF00125                                                 </td><td>Core histone H2A/H2B/H3/H4                              </td></tr>\n",
       "\t<tr><td>PF00413                                                 </td><td>Matrixin                                                </td></tr>\n",
       "\t<tr><td>PF00683                                                 </td><td>TB domain                                               </td></tr>\n",
       "\t<tr><td>PF00969                                                 </td><td>Class II histocompatibility antigen, beta domain        </td></tr>\n",
       "\t<tr><td>PF01421                                                 </td><td>Reprolysin (M12B) family zinc metalloprotease           </td></tr>\n",
       "\t<tr><td>PF01833                                                 </td><td>IPT/TIG domain                                          </td></tr>\n",
       "\t<tr><td>PF02931                                                 </td><td>Neurotransmitter-gated ion-channel ligand binding domain</td></tr>\n",
       "\t<tr><td>PF04103                                                 </td><td>CD20-like family                                        </td></tr>\n",
       "\t<tr><td>PF07645                                                 </td><td>Calcium-binding EGF domain                              </td></tr>\n",
       "\t<tr><td>PF07679                                                 </td><td>Immunoglobulin I-set domain                             </td></tr>\n",
       "\t<tr><td>PF10409                                                 </td><td>C2 domain of PTEN tumour-suppressor protein             </td></tr>\n",
       "</tbody>\n",
       "</table>\n"
      ],
      "text/latex": [
       "\\begin{tabular}{ll}\n",
       " Id & Name\\\\\n",
       "\\hline\n",
       "\t PF00028                                                  & Cadherin domain                                         \\\\\n",
       "\t PF00041                                                  & Fibronectin type III domain                             \\\\\n",
       "\t PF00071                                                  & Ras family                                              \\\\\n",
       "\t PF00090                                                  & Thrombospondin type 1 domain                            \\\\\n",
       "\t PF00125                                                  & Core histone H2A/H2B/H3/H4                              \\\\\n",
       "\t PF00413                                                  & Matrixin                                                \\\\\n",
       "\t PF00683                                                  & TB domain                                               \\\\\n",
       "\t PF00969                                                  & Class II histocompatibility antigen, beta domain        \\\\\n",
       "\t PF01421                                                  & Reprolysin (M12B) family zinc metalloprotease           \\\\\n",
       "\t PF01833                                                  & IPT/TIG domain                                          \\\\\n",
       "\t PF02931                                                  & Neurotransmitter-gated ion-channel ligand binding domain\\\\\n",
       "\t PF04103                                                  & CD20-like family                                        \\\\\n",
       "\t PF07645                                                  & Calcium-binding EGF domain                              \\\\\n",
       "\t PF07679                                                  & Immunoglobulin I-set domain                             \\\\\n",
       "\t PF10409                                                  & C2 domain of PTEN tumour-suppressor protein             \\\\\n",
       "\\end{tabular}\n"
      ],
      "text/markdown": [
       "\n",
       "Id | Name | \n",
       "|---|---|---|---|---|---|---|---|---|---|---|---|---|---|---|\n",
       "| PF00028                                                  | Cadherin domain                                          | \n",
       "| PF00041                                                  | Fibronectin type III domain                              | \n",
       "| PF00071                                                  | Ras family                                               | \n",
       "| PF00090                                                  | Thrombospondin type 1 domain                             | \n",
       "| PF00125                                                  | Core histone H2A/H2B/H3/H4                               | \n",
       "| PF00413                                                  | Matrixin                                                 | \n",
       "| PF00683                                                  | TB domain                                                | \n",
       "| PF00969                                                  | Class II histocompatibility antigen, beta domain         | \n",
       "| PF01421                                                  | Reprolysin (M12B) family zinc metalloprotease            | \n",
       "| PF01833                                                  | IPT/TIG domain                                           | \n",
       "| PF02931                                                  | Neurotransmitter-gated ion-channel ligand binding domain | \n",
       "| PF04103                                                  | CD20-like family                                         | \n",
       "| PF07645                                                  | Calcium-binding EGF domain                               | \n",
       "| PF07679                                                  | Immunoglobulin I-set domain                              | \n",
       "| PF10409                                                  | C2 domain of PTEN tumour-suppressor protein              | \n",
       "\n",
       "\n"
      ],
      "text/plain": [
       "      Id      Name                                                    \n",
       " [1,] PF00028 Cadherin domain                                         \n",
       " [2,] PF00041 Fibronectin type III domain                             \n",
       " [3,] PF00071 Ras family                                              \n",
       " [4,] PF00090 Thrombospondin type 1 domain                            \n",
       " [5,] PF00125 Core histone H2A/H2B/H3/H4                              \n",
       " [6,] PF00413 Matrixin                                                \n",
       " [7,] PF00683 TB domain                                               \n",
       " [8,] PF00969 Class II histocompatibility antigen, beta domain        \n",
       " [9,] PF01421 Reprolysin (M12B) family zinc metalloprotease           \n",
       "[10,] PF01833 IPT/TIG domain                                          \n",
       "[11,] PF02931 Neurotransmitter-gated ion-channel ligand binding domain\n",
       "[12,] PF04103 CD20-like family                                        \n",
       "[13,] PF07645 Calcium-binding EGF domain                              \n",
       "[14,] PF07679 Immunoglobulin I-set domain                             \n",
       "[15,] PF10409 C2 domain of PTEN tumour-suppressor protein             "
      ]
     },
     "metadata": {},
     "output_type": "display_data"
    }
   ],
   "source": [
    "# display MS domains\n",
    "pf.all$Feature[M&S] %>%\n",
    "    gsub(\"_\",\" \",.) %>%\n",
    "    gsub(\"PF[0-9]+\\\\|\",\"\",.) %>%\n",
    "    cbind(pf.all$id[M&S],.) %>%\n",
    "    set_colnames(c(\"Id\",\"Name\"))"
   ]
  },
  {
   "cell_type": "code",
   "execution_count": 11,
   "metadata": {
    "ExecuteTime": {
     "end_time": "2017-02-14T12:46:52.349682",
     "start_time": "2017-02-14T11:42:14.273Z"
    },
    "collapsed": false
   },
   "outputs": [
    {
     "data": {
      "text/html": [
       "<table>\n",
       "<thead><tr><th></th><th scope=col>GeneId</th><th scope=col>Symbol</th><th scope=col>PatientNumber</th></tr></thead>\n",
       "<tbody>\n",
       "\t<tr><th scope=row>1</th><td>345193 </td><td>LRIT3  </td><td>134    </td></tr>\n",
       "\t<tr><th scope=row>6</th><td> 51162 </td><td>EGFL7  </td><td>129    </td></tr>\n",
       "\t<tr><th scope=row>17</th><td>  3371 </td><td>TNC    </td><td>115    </td></tr>\n",
       "\t<tr><th scope=row>149</th><td>115273 </td><td>RAB42  </td><td> 89    </td></tr>\n",
       "\t<tr><th scope=row>160</th><td>  4915 </td><td>NTRK2  </td><td> 72    </td></tr>\n",
       "\t<tr><th scope=row>182</th><td>  5879 </td><td>RAC1   </td><td> 66    </td></tr>\n",
       "\t<tr><th scope=row>194</th><td>  4238 </td><td>MFAP3  </td><td> 61    </td></tr>\n",
       "\t<tr><th scope=row>204</th><td>345193 </td><td>LRIT3  </td><td> 54    </td></tr>\n",
       "\t<tr><th scope=row>209</th><td>  9708 </td><td>PCDHGA8</td><td> 54    </td></tr>\n",
       "\t<tr><th scope=row>259</th><td> 56138 </td><td>PCDHA11</td><td> 47    </td></tr>\n",
       "\t<tr><th scope=row>299</th><td> 79148 </td><td>MMP28  </td><td> 47    </td></tr>\n",
       "\t<tr><th scope=row>309</th><td> 22883 </td><td>CLSTN1 </td><td> 45    </td></tr>\n",
       "\t<tr><th scope=row>313</th><td>  4638 </td><td>MYLK   </td><td> 45    </td></tr>\n",
       "\t<tr><th scope=row>336</th><td>220001 </td><td>VWCE   </td><td> 39    </td></tr>\n",
       "\t<tr><th scope=row>369</th><td>221935 </td><td>SDK1   </td><td> 38    </td></tr>\n",
       "</tbody>\n",
       "</table>\n"
      ],
      "text/latex": [
       "\\begin{tabular}{r|lll}\n",
       "  & GeneId & Symbol & PatientNumber\\\\\n",
       "\\hline\n",
       "\t1 & 345193  & LRIT3   & 134    \\\\\n",
       "\t6 &  51162  & EGFL7   & 129    \\\\\n",
       "\t17 &   3371  & TNC     & 115    \\\\\n",
       "\t149 & 115273  & RAB42   &  89    \\\\\n",
       "\t160 &   4915  & NTRK2   &  72    \\\\\n",
       "\t182 &   5879  & RAC1    &  66    \\\\\n",
       "\t194 &   4238  & MFAP3   &  61    \\\\\n",
       "\t204 & 345193  & LRIT3   &  54    \\\\\n",
       "\t209 &   9708  & PCDHGA8 &  54    \\\\\n",
       "\t259 &  56138  & PCDHA11 &  47    \\\\\n",
       "\t299 &  79148  & MMP28   &  47    \\\\\n",
       "\t309 &  22883  & CLSTN1  &  45    \\\\\n",
       "\t313 &   4638  & MYLK    &  45    \\\\\n",
       "\t336 & 220001  & VWCE    &  39    \\\\\n",
       "\t369 & 221935  & SDK1    &  38    \\\\\n",
       "\\end{tabular}\n"
      ],
      "text/markdown": [
       "\n",
       "| <!--/--> | GeneId | Symbol | PatientNumber | \n",
       "|---|---|---|---|---|---|---|---|---|---|---|---|---|---|---|\n",
       "| 1 | 345193  | LRIT3   | 134     | \n",
       "| 6 |  51162  | EGFL7   | 129     | \n",
       "| 17 |   3371  | TNC     | 115     | \n",
       "| 149 | 115273  | RAB42   |  89     | \n",
       "| 160 |   4915  | NTRK2   |  72     | \n",
       "| 182 |   5879  | RAC1    |  66     | \n",
       "| 194 |   4238  | MFAP3   |  61     | \n",
       "| 204 | 345193  | LRIT3   |  54     | \n",
       "| 209 |   9708  | PCDHGA8 |  54     | \n",
       "| 259 |  56138  | PCDHA11 |  47     | \n",
       "| 299 |  79148  | MMP28   |  47     | \n",
       "| 309 |  22883  | CLSTN1  |  45     | \n",
       "| 313 |   4638  | MYLK    |  45     | \n",
       "| 336 | 220001  | VWCE    |  39     | \n",
       "| 369 | 221935  | SDK1    |  38     | \n",
       "\n",
       "\n"
      ],
      "text/plain": [
       "    GeneId Symbol  PatientNumber\n",
       "1   345193 LRIT3   134          \n",
       "6    51162 EGFL7   129          \n",
       "17    3371 TNC     115          \n",
       "149 115273 RAB42    89          \n",
       "160   4915 NTRK2    72          \n",
       "182   5879 RAC1     66          \n",
       "194   4238 MFAP3    61          \n",
       "204 345193 LRIT3    54          \n",
       "209   9708 PCDHGA8  54          \n",
       "259  56138 PCDHA11  47          \n",
       "299  79148 MMP28    47          \n",
       "309  22883 CLSTN1   45          \n",
       "313   4638 MYLK     45          \n",
       "336 220001 VWCE     39          \n",
       "369 221935 SDK1     38          "
      ]
     },
     "metadata": {},
     "output_type": "display_data"
    }
   ],
   "source": [
    "# genes where MS domains change\n",
    "features %>%\n",
    "    filter(Feature %in% pf.all$Feature[M&S]) %>%\n",
    "    merge(switches,by=c(\"GeneId\",\"Symbol\")) %>%\n",
    "    arrange(desc(PatientNumber)) %>%\n",
    "    select(GeneId,Symbol,PatientNumber) %>%\n",
    "    unique %>%\n",
    "    head(n=15)"
   ]
  },
  {
   "cell_type": "code",
   "execution_count": 12,
   "metadata": {
    "ExecuteTime": {
     "end_time": "2017-02-14T12:46:52.411584",
     "start_time": "2017-02-14T11:42:14.283Z"
    },
    "collapsed": false
   },
   "outputs": [
    {
     "data": {
      "text/html": [
       "5299"
      ],
      "text/latex": [
       "5299"
      ],
      "text/markdown": [
       "5299"
      ],
      "text/plain": [
       "[1] 5299"
      ]
     },
     "metadata": {},
     "output_type": "display_data"
    },
    {
     "data": {
      "text/html": [
       "1453"
      ],
      "text/latex": [
       "1453"
      ],
      "text/markdown": [
       "1453"
      ],
      "text/plain": [
       "[1] 1453"
      ]
     },
     "metadata": {},
     "output_type": "display_data"
    },
    {
     "data": {
      "text/html": [
       "5056"
      ],
      "text/latex": [
       "5056"
      ],
      "text/markdown": [
       "5056"
      ],
      "text/plain": [
       "[1] 5056"
      ]
     },
     "metadata": {},
     "output_type": "display_data"
    }
   ],
   "source": [
    "# total number of domains observed\n",
    "length(unique(c(pfam.agg$Feature,pf$Feature,pf.m$Feature)))\n",
    "\n",
    "# number of domains for which switch has been observed\n",
    "sum(pf$LostNum > 0 | pf$GainNum > 0,na.rm=T)\n",
    "\n",
    "# number of domains for which a mutation has been observed\n",
    "sum(pf.m$TotalMutations > 0)"
   ]
  },
  {
   "cell_type": "markdown",
   "metadata": {},
   "source": [
    "### GO term enrichment"
   ]
  },
  {
   "cell_type": "markdown",
   "metadata": {
    "ExecuteTime": {
     "end_time": "2016-05-30T17:14:42.915007",
     "start_time": "2016-05-30T15:13:16.000Z"
    },
    "collapsed": false
   },
   "source": [
    "```\n",
    "# gains\n",
    "awk '$11<0.05 && $16>1' results/pfam_enrichment_analysis.tsv | cut -f1\n",
    "\n",
    "# losses\n",
    "awk '$13<0.05 && $17>1' results/pfam_enrichment_analysis.tsv | cut -f1\n",
    "\n",
    "# gains + losses\n",
    "awk '($13<0.05 && $17>1) || ($11<0.05 && $16>1)' results/pfam_enrichment_analysis.tsv | cut -f1\n",
    "\n",
    "# mutated\n",
    "awk '$15<0.05' results/pfam_enrichment_analysis.tsv | cut -f1\n",
    "\n",
    "# paste in http://supfam.org/SUPERFAMILY/cgi-bin/dcenrichment.cgi using functions/diseases.\n",
    "```"
   ]
  },
  {
   "cell_type": "markdown",
   "metadata": {},
   "source": [
    "### Comparison M - S"
   ]
  },
  {
   "cell_type": "code",
   "execution_count": 13,
   "metadata": {
    "ExecuteTime": {
     "end_time": "2017-02-14T12:48:00.600922",
     "start_time": "2017-02-14T11:42:14.289Z"
    },
    "collapsed": false
   },
   "outputs": [
    {
     "name": "stderr",
     "output_type": "stream",
     "text": [
      "The following `from` values were not present in `x`: 4\n",
      "The following `from` values were not present in `x`: Highly Informative\n",
      "Warning message:\n",
      "“Removed 6 rows containing missing values (geom_errorbar).”"
     ]
    },
    {
     "data": {},
     "metadata": {},
     "output_type": "display_data"
    },
    {
     "data": {
      "image/png": "[encoded data removed]",
      "text/plain": [
       "plot without title"
      ]
     },
     "metadata": {},
     "output_type": "display_data"
    }
   ],
   "source": [
    "# Read pfam annotation\n",
    "pfam2go <- read_tsv(\"../data/PFAM2GO.txt\",skip=1)\n",
    "go.levels <- read_tsv(\"../data/PFAMGO.txt\",skip=1)\n",
    "\n",
    "pfam2go.m <- merge(pfam2go,go.levels) \n",
    "\n",
    "# Get list of all observed domains with their associated annotation\n",
    "domains <- plyr::dlply(pfam2go.m,.(slim_level,GO_subontology,GO_ID),function(x){\n",
    "    intersect(pf$id,unlist(strsplit(x[,3],\",\")))\n",
    "}) %>% unlist \n",
    "class <- gsub(\"\\\\.[^\\\\.]+$\",\"\",names(domains))\n",
    "\n",
    "expressedgos <- unlist(strsplit(names(domains),\".\",fixed=T))[c(F,F,T)] %>% \n",
    "    substr(1,10) %>%\n",
    "    split(class) %>%\n",
    "    lapply(unique)\n",
    "\n",
    "# read GO term enrichment analysis and calculate an agreement between M and S\n",
    "## molecular function\n",
    "smf <- read_tsv(\"../results/pfam_go_term/S_GO_molecular_function.tsv\",skip=15) %>%\n",
    "    mutate(origin=\"switches\", gotype=\"molecular_function\")\n",
    "mmf <- read_tsv(\"../results/pfam_go_term/M_GO_molecular_function.tsv\",skip=15) %>%\n",
    "    mutate(origin=\"mutations\", gotype=\"molecular_function\")\n",
    "\n",
    "## cellular component\n",
    "scc <- read_tsv(\"../results/pfam_go_term/S_GO_cellular_component.tsv\",skip=15) %>%\n",
    "    mutate(origin=\"switches\", gotype=\"cellular_component\")\n",
    "mcc <- read_tsv(\"../results/pfam_go_term/M_GO_cellular_component.tsv\",skip=15) %>%\n",
    "    mutate(origin=\"mutations\", gotype=\"cellular_component\")\n",
    "\n",
    "go <- do.call(\"rbind\",list(smf,mmf,scc,mcc)) %>%\n",
    "    set_colnames(c(\"group\",\"id\",\"goterm\",\"slim_level\",\"z\",\"p\",\"fdr\",\"table\",\"domains\",\"origin\",\"gotype\")) \n",
    "\n",
    "all <- go %>%\n",
    "    count(id,gotype,slim_level) %>%\n",
    "    group_by(gotype,slim_level)  %>%\n",
    "    summarise(Match = sum(n==2), Any=n())\n",
    "\n",
    "M <- go %>% \n",
    "    filter(origin==\"mutations\") %>%\n",
    "    count(gotype,slim_level) %>%\n",
    "    mutate(M = n) %>%\n",
    "    select(-n)\n",
    "\n",
    "S <- go %>% \n",
    "    filter(origin==\"switches\") %>%\n",
    "    count(gotype,slim_level) %>%\n",
    "    mutate(S = n) %>%\n",
    "    select(-n)\n",
    "\n",
    "coincidence <- merge(all,M) %>%\n",
    "    merge(S) %>%\n",
    "    mutate(Match = Match/Any, sdMatch = NA, Coincidence = \"Observed\", \n",
    "           slim_level = revalue(as.character(slim_level),\n",
    "                                replace = c('1'=\"Least Informative\", '2'=\"Moderately Informative\",\n",
    "                                            '3'=\"Informative\", '4'=\"Highly Informative\")))\n",
    "\n",
    "# prepare df to get number of samples\n",
    "M <- unique(coincidence[,c('gotype','slim_level',\"M\",\"S\")])\n",
    "\n",
    "random_coincidence <- lapply(names(expressedgos), function(c){\n",
    "    # select real data comparison\n",
    "    studied_level <- strsplit(c, \"\\\\.\") %>% unlist\n",
    "    this.slim_level <- studied_level[1]\n",
    "    this.gotype <- studied_level[2]\n",
    "    real_match <- coincidence %>% filter(slim_level == this.slim_level & gotype == this.gotype) %>% .$Match\n",
    "    \n",
    "    v <- paste(M$slim_level, M$gotype, sep=\".\") == c\n",
    "    if (sum(v) > 0){\n",
    "        x <- M %>% filter(slim_level == this.slim_level & gotype == this.gotype)\n",
    "        # permutate 100 times\n",
    "        permutations <- lapply(1:100, function(i){\n",
    "            m <- sample(expressedgos[[c]],x$M)\n",
    "            s <- sample(expressedgos[[c]],x$S)\n",
    "            length(intersect(m,s))/length(unique(c(m,s)))\n",
    "        }) %>% do.call(\"c\", .)\n",
    "        f <- ecdf(permutations)\n",
    "\n",
    "        data.frame(gotype = this.gotype, slim_level = this.slim_level, \n",
    "                   Match = mean(permutations), sdMatch = sd(permutations),\n",
    "                   p = 1 - f(real_match), Coincidence = \"Random (x100)\")\n",
    "    }\n",
    "}) %>% do.call(\"rbind\", .)\n",
    "\n",
    "p <- random_coincidence$p\n",
    "        \n",
    "gg <- coincidence %>%\n",
    "    select(gotype, slim_level ,Match, sdMatch, Coincidence) %>%\n",
    "    rbind(random_coincidence %>% select(-p)) %>%\n",
    "    mutate(slim_level = factor(revalue(slim_level, \n",
    "                                       replace = c('Least Informative' = \"+\", 'Moderately Informative' = \"++\",\n",
    "                                                   'Informative' = \"+++\", 'Highly Informative' = \"++++\")),\n",
    "                                       levels = c('+','++','+++','++++')),\n",
    "           gotype = gsub(\"_\",\" \",gotype)) %>%\n",
    "    ggplot(aes(x = slim_level, y = Match, fill = gotype, alpha = Coincidence)) +\n",
    "        geom_bar(position = \"dodge\", stat = \"identity\") +\n",
    "        geom_errorbar(aes(ymax = Match + sdMatch, ymin = Match - sdMatch), position = \"dodge\") +\n",
    "        scale_alpha_discrete(range = c(\"Observed\" = 1, \"Random (x100)\" = 0.5)) +\n",
    "        labs(x = \"Information\", y = \"M and S agreement\", fill = \"GO Ontology\") +\n",
    "        clean_theme() +\n",
    "        theme(axis.text.x = element_text(angle = 45, hjust = 1))\n",
    "\n",
    "star_bar(gg, p < 0.05)"
   ]
  },
  {
   "cell_type": "code",
   "execution_count": 14,
   "metadata": {
    "ExecuteTime": {
     "end_time": "2017-02-14T12:48:00.664223",
     "start_time": "2017-02-14T11:42:14.293Z"
    },
    "collapsed": false
   },
   "outputs": [],
   "source": [
    "all <- go %>%\n",
    "    count(id,gotype,slim_level) %>%\n",
    "    group_by(gotype,slim_level)  %>%\n",
    "    summarise(Match = sum(n==2), Any=n())\n",
    "\n",
    "M <- go %>% \n",
    "    filter(origin==\"mutations\") %>%\n",
    "    count(gotype,slim_level) %>%\n",
    "    mutate(M = n) %>%\n",
    "    select(-n)\n",
    "\n",
    "S <- go %>% \n",
    "    filter(origin==\"switches\") %>%\n",
    "    count(gotype,slim_level) %>%\n",
    "    mutate(S = n) %>%\n",
    "    select(-n)"
   ]
  },
  {
   "cell_type": "code",
   "execution_count": 15,
   "metadata": {
    "ExecuteTime": {
     "end_time": "2017-02-14T12:48:00.831728",
     "start_time": "2017-02-14T11:42:14.297Z"
    },
    "collapsed": false
   },
   "outputs": [
    {
     "data": {
      "text/html": [
       "<ol class=list-inline>\n",
       "\t<li>'carbohydrate derivative binding'</li>\n",
       "\t<li>'cytoskeletal protein binding'</li>\n",
       "\t<li>'enzyme binding'</li>\n",
       "\t<li>'identical protein binding'</li>\n",
       "\t<li>'ion binding'</li>\n",
       "\t<li>'macromolecular complex binding'</li>\n",
       "\t<li>'molecular function regulator'</li>\n",
       "\t<li>'protein dimerization activity'</li>\n",
       "\t<li>'receptor activity'</li>\n",
       "\t<li>'receptor binding'</li>\n",
       "\t<li>'signal transducer activity'</li>\n",
       "\t<li>'small molecule binding'</li>\n",
       "</ol>\n"
      ],
      "text/latex": [
       "\\begin{enumerate*}\n",
       "\\item 'carbohydrate derivative binding'\n",
       "\\item 'cytoskeletal protein binding'\n",
       "\\item 'enzyme binding'\n",
       "\\item 'identical protein binding'\n",
       "\\item 'ion binding'\n",
       "\\item 'macromolecular complex binding'\n",
       "\\item 'molecular function regulator'\n",
       "\\item 'protein dimerization activity'\n",
       "\\item 'receptor activity'\n",
       "\\item 'receptor binding'\n",
       "\\item 'signal transducer activity'\n",
       "\\item 'small molecule binding'\n",
       "\\end{enumerate*}\n"
      ],
      "text/markdown": [
       "1. 'carbohydrate derivative binding'\n",
       "2. 'cytoskeletal protein binding'\n",
       "3. 'enzyme binding'\n",
       "4. 'identical protein binding'\n",
       "5. 'ion binding'\n",
       "6. 'macromolecular complex binding'\n",
       "7. 'molecular function regulator'\n",
       "8. 'protein dimerization activity'\n",
       "9. 'receptor activity'\n",
       "10. 'receptor binding'\n",
       "11. 'signal transducer activity'\n",
       "12. 'small molecule binding'\n",
       "\n",
       "\n"
      ],
      "text/plain": [
       " [1] \"carbohydrate derivative binding\" \"cytoskeletal protein binding\"   \n",
       " [3] \"enzyme binding\"                  \"identical protein binding\"      \n",
       " [5] \"ion binding\"                     \"macromolecular complex binding\" \n",
       " [7] \"molecular function regulator\"    \"protein dimerization activity\"  \n",
       " [9] \"receptor activity\"               \"receptor binding\"               \n",
       "[11] \"signal transducer activity\"      \"small molecule binding\"         "
      ]
     },
     "metadata": {},
     "output_type": "display_data"
    },
    {
     "data": {
      "text/html": [
       "<ol class=list-inline>\n",
       "\t<li>'amide binding'</li>\n",
       "\t<li>'beta-catenin binding'</li>\n",
       "\t<li>'cargo receptor activity'</li>\n",
       "\t<li>'collagen binding'</li>\n",
       "\t<li>'cytokine binding'</li>\n",
       "\t<li>'endopeptidase activity'</li>\n",
       "\t<li>'G-protein coupled receptor activity'</li>\n",
       "\t<li>'glycosaminoglycan binding'</li>\n",
       "\t<li>'growth factor binding'</li>\n",
       "\t<li>'PDZ domain binding'</li>\n",
       "\t<li>'protein heterodimerization activity'</li>\n",
       "\t<li>'protein kinase binding'</li>\n",
       "\t<li>'protein tyrosine kinase activity'</li>\n",
       "\t<li>'RNA polymerase II regulatory region DNA binding'</li>\n",
       "\t<li>'serine-type peptidase activity'</li>\n",
       "\t<li>'sulfur compound binding'</li>\n",
       "\t<li>'transmembrane receptor protein kinase activity'</li>\n",
       "</ol>\n"
      ],
      "text/latex": [
       "\\begin{enumerate*}\n",
       "\\item 'amide binding'\n",
       "\\item 'beta-catenin binding'\n",
       "\\item 'cargo receptor activity'\n",
       "\\item 'collagen binding'\n",
       "\\item 'cytokine binding'\n",
       "\\item 'endopeptidase activity'\n",
       "\\item 'G-protein coupled receptor activity'\n",
       "\\item 'glycosaminoglycan binding'\n",
       "\\item 'growth factor binding'\n",
       "\\item 'PDZ domain binding'\n",
       "\\item 'protein heterodimerization activity'\n",
       "\\item 'protein kinase binding'\n",
       "\\item 'protein tyrosine kinase activity'\n",
       "\\item 'RNA polymerase II regulatory region DNA binding'\n",
       "\\item 'serine-type peptidase activity'\n",
       "\\item 'sulfur compound binding'\n",
       "\\item 'transmembrane receptor protein kinase activity'\n",
       "\\end{enumerate*}\n"
      ],
      "text/markdown": [
       "1. 'amide binding'\n",
       "2. 'beta-catenin binding'\n",
       "3. 'cargo receptor activity'\n",
       "4. 'collagen binding'\n",
       "5. 'cytokine binding'\n",
       "6. 'endopeptidase activity'\n",
       "7. 'G-protein coupled receptor activity'\n",
       "8. 'glycosaminoglycan binding'\n",
       "9. 'growth factor binding'\n",
       "10. 'PDZ domain binding'\n",
       "11. 'protein heterodimerization activity'\n",
       "12. 'protein kinase binding'\n",
       "13. 'protein tyrosine kinase activity'\n",
       "14. 'RNA polymerase II regulatory region DNA binding'\n",
       "15. 'serine-type peptidase activity'\n",
       "16. 'sulfur compound binding'\n",
       "17. 'transmembrane receptor protein kinase activity'\n",
       "\n",
       "\n"
      ],
      "text/plain": [
       " [1] \"amide binding\"                                  \n",
       " [2] \"beta-catenin binding\"                           \n",
       " [3] \"cargo receptor activity\"                        \n",
       " [4] \"collagen binding\"                               \n",
       " [5] \"cytokine binding\"                               \n",
       " [6] \"endopeptidase activity\"                         \n",
       " [7] \"G-protein coupled receptor activity\"            \n",
       " [8] \"glycosaminoglycan binding\"                      \n",
       " [9] \"growth factor binding\"                          \n",
       "[10] \"PDZ domain binding\"                             \n",
       "[11] \"protein heterodimerization activity\"            \n",
       "[12] \"protein kinase binding\"                         \n",
       "[13] \"protein tyrosine kinase activity\"               \n",
       "[14] \"RNA polymerase II regulatory region DNA binding\"\n",
       "[15] \"serine-type peptidase activity\"                 \n",
       "[16] \"sulfur compound binding\"                        \n",
       "[17] \"transmembrane receptor protein kinase activity\" "
      ]
     },
     "metadata": {},
     "output_type": "display_data"
    },
    {
     "data": {
      "text/html": [
       "<ol class=list-inline>\n",
       "\t<li>'growth factor receptor binding'</li>\n",
       "\t<li>'phosphatidylinositol 3-kinase binding'</li>\n",
       "\t<li>'protein binding involved in cell-cell adhesion'</li>\n",
       "</ol>\n"
      ],
      "text/latex": [
       "\\begin{enumerate*}\n",
       "\\item 'growth factor receptor binding'\n",
       "\\item 'phosphatidylinositol 3-kinase binding'\n",
       "\\item 'protein binding involved in cell-cell adhesion'\n",
       "\\end{enumerate*}\n"
      ],
      "text/markdown": [
       "1. 'growth factor receptor binding'\n",
       "2. 'phosphatidylinositol 3-kinase binding'\n",
       "3. 'protein binding involved in cell-cell adhesion'\n",
       "\n",
       "\n"
      ],
      "text/plain": [
       "[1] \"growth factor receptor binding\"                \n",
       "[2] \"phosphatidylinositol 3-kinase binding\"         \n",
       "[3] \"protein binding involved in cell-cell adhesion\""
      ]
     },
     "metadata": {},
     "output_type": "display_data"
    }
   ],
   "source": [
    "# some molecular function terms\n",
    "x <- table(rbind(mmf[,c(3,4)],smf[,c(3,4)]))\n",
    "rownames(x)[x[,1]==2]\n",
    "rownames(x)[x[,2]==2]\n",
    "rownames(x)[x[,3]==2]"
   ]
  },
  {
   "cell_type": "markdown",
   "metadata": {},
   "source": [
    "### Genes containing the domains\n",
    "\n",
    "We will inquire if gained/lost domains are characteristic of certain either oncogenes or tumor suppressors. We will clasify all the domains present in the reference proteome that occur in oncogenes suppresors as gained or lost (those outside those categories are omited)."
   ]
  },
  {
   "cell_type": "code",
   "execution_count": 16,
   "metadata": {
    "ExecuteTime": {
     "end_time": "2017-02-14T12:48:01.768483",
     "start_time": "2017-02-14T11:42:14.301Z"
    },
    "collapsed": false
   },
   "outputs": [
    {
     "data": {
      "text/plain": [
       "\n",
       "\tFisher's Exact Test for Count Data\n",
       "\n",
       "data:  g\n",
       "p-value = 0.07758\n",
       "alternative hypothesis: true odds ratio is not equal to 1\n",
       "95 percent confidence interval:\n",
       " 0.4008726 1.0479425\n",
       "sample estimates:\n",
       "odds ratio \n",
       " 0.6540407 \n"
      ]
     },
     "metadata": {},
     "output_type": "display_data"
    },
    {
     "data": {
      "text/plain": [
       "            ContainsL\n",
       "Driver_type    0   1\n",
       "  oncogene   244 103\n",
       "  suppressor 116  32"
      ]
     },
     "metadata": {},
     "output_type": "display_data"
    },
    {
     "data": {
      "text/plain": [
       "\n",
       "\tFisher's Exact Test for Count Data\n",
       "\n",
       "data:  g\n",
       "p-value = 0.006694\n",
       "alternative hypothesis: true odds ratio is not equal to 1\n",
       "95 percent confidence interval:\n",
       " 0.1836623 0.8020977\n",
       "sample estimates:\n",
       "odds ratio \n",
       " 0.4007126 \n"
      ]
     },
     "metadata": {},
     "output_type": "display_data"
    },
    {
     "data": {
      "text/plain": [
       "            ContainsG\n",
       "Driver_type    0   1\n",
       "  oncogene   289  58\n",
       "  suppressor 137  11"
      ]
     },
     "metadata": {},
     "output_type": "display_data"
    }
   ],
   "source": [
    "L <- pf.all$adjp_l < 0.05 & pf.all$switches_l > 1\n",
    "L[is.na(L)] <- FALSE\n",
    "G <- pf.all$adjp_g < 0.05 & pf.all$switches_g > 1\n",
    "G[is.na(G)] <- FALSE\n",
    "\n",
    "driver.types <- read_tsv(\"../data/cancer_networks_SuppTables_v7_S7.csv\", col_names = F) %>%\n",
    "    set_colnames(c(\"Symbol\",\"Driver_type\"))\n",
    "\n",
    "# gene level: association between oncogenes/tumor suppressors and gained/lost domains\n",
    "g <- features %>%\n",
    "    mutate(LFeature = Feature %in% pf.all$Feature[L],\n",
    "           GFeature = Feature %in% pf.all$Feature[G]) %>%\n",
    "    merge(driver.types) %>%\n",
    "    filter(Driver_type %in% c(\"oncogene\",\"suppressor\")) %>%\n",
    "    group_by(GeneId, Driver_type) %>%\n",
    "    summarise(ContainsL = max(LFeature)) %>%\n",
    "    ungroup %>%\n",
    "    select(-GeneId) %>%\n",
    "    table\n",
    "\n",
    "fisher.test(g)\n",
    "g\n",
    "\n",
    "g <- features %>%\n",
    "    mutate(LFeature = Feature %in% pf.all$Feature[L],\n",
    "           GFeature = Feature %in% pf.all$Feature[G]) %>%\n",
    "    merge(driver.types) %>%\n",
    "    filter(Driver_type %in% c(\"oncogene\",\"suppressor\")) %>%\n",
    "    group_by(GeneId, Driver_type) %>%\n",
    "    summarise(ContainsG = max(GFeature)) %>%\n",
    "    ungroup %>%\n",
    "    select(-GeneId) %>%\n",
    "    table\n",
    "\n",
    "fisher.test(g)\n",
    "g"
   ]
  },
  {
   "cell_type": "code",
   "execution_count": 17,
   "metadata": {
    "ExecuteTime": {
     "end_time": "2017-02-14T12:48:03.964346",
     "start_time": "2017-02-14T11:42:14.304Z"
    },
    "collapsed": false
   },
   "outputs": [
    {
     "data": {},
     "metadata": {},
     "output_type": "display_data"
    },
    {
     "data": {
      "text/plain": [
       "\n",
       "\tWilcoxon rank sum test with continuity correction\n",
       "\n",
       "data:  d$Proportion[d$Driver_type == \"oncogene\" & d$Feature_type ==  and d$Proportion[d$Driver_type == \"suppressor\" & d$Feature_type ==     \"Loss\"] and     \"Loss\"]\n",
       "W = 3430, p-value = 1.257e-06\n",
       "alternative hypothesis: true location shift is greater than 0\n"
      ]
     },
     "metadata": {},
     "output_type": "display_data"
    },
    {
     "name": "stderr",
     "output_type": "stream",
     "text": [
      "Warning message in wilcox.test.default(d$Proportion[d$Driver_type == \"oncogene\" & :\n",
      "“cannot compute exact p-value with ties”"
     ]
    },
    {
     "data": {
      "text/plain": [
       "\n",
       "\tWilcoxon rank sum test with continuity correction\n",
       "\n",
       "data:  d$Proportion[d$Driver_type == \"oncogene\" & d$Feature_type ==  and d$Proportion[d$Driver_type == \"suppressor\" & d$Feature_type ==     \"Gain\"] and     \"Gain\"]\n",
       "W = 163, p-value = 0.0009293\n",
       "alternative hypothesis: true location shift is greater than 0\n"
      ]
     },
     "metadata": {},
     "output_type": "display_data"
    },
    {
     "data": {
      "image/png": "[encoded data removed]",
      "text/plain": [
       "plot without title"
      ]
     },
     "metadata": {},
     "output_type": "display_data"
    }
   ],
   "source": [
    "# domain level: association between proportion of the gained/lost domains that affect oncogenes/tumor suppressors\n",
    "d <- features %>%\n",
    "    merge(driver.types) %>%\n",
    "    filter(Driver_type %in% c(\"oncogene\",\"suppressor\")) %>%\n",
    "    group_by(Feature) %>%\n",
    "    summarise(oncogene = \n",
    "              (GeneId[Driver_type==\"oncogene\"] %>% unique %>% length)/sum(driver.types$Driver_type==\"oncogene\"), \n",
    "              suppressor = \n",
    "              (GeneId[Driver_type==\"suppressor\"] %>% unique %>% length)/sum(driver.types$Driver_type==\"suppressor\")) %>%\n",
    "    reshape2::melt(id.vars = \"Feature\") %>%\n",
    "    rename(Driver_type = variable, Proportion = value) %>%\n",
    "    mutate(Feature_type = ifelse(Feature %in% pf.all$Feature[L], \"Loss\", \"Nothing\"),\n",
    "           Feature_type = ifelse(Feature %in% pf.all$Feature[G], \"Gain\", Feature_type),\n",
    "           Feature_type = ifelse(Feature %in% pf.all$Feature[G&L], \"Both\", Feature_type)) %>%\n",
    "    filter(Feature_type %in% c(\"Loss\",\"Gain\"))\n",
    "    \n",
    "d %>%\n",
    "    ggplot(aes(x = Driver_type, y = Proportion)) +\n",
    "        geom_boxplot() +\n",
    "        clean_theme() +\n",
    "        facet_grid(. ~ Feature_type) +\n",
    "        theme(axis.text.x = element_text(angle = 45, vjust = 0.3))\n",
    "\n",
    "wilcox.test(d$Proportion[d$Driver_type==\"oncogene\" & d$Feature_type==\"Loss\"], \n",
    "            d$Proportion[d$Driver_type==\"suppressor\" & d$Feature_type==\"Loss\"], alternative = \"greater\")\n",
    "wilcox.test(d$Proportion[d$Driver_type==\"oncogene\" & d$Feature_type==\"Gain\"], \n",
    "            d$Proportion[d$Driver_type==\"suppressor\" & d$Feature_type==\"Gain\"], alternative = \"greater\")"
   ]
  },
  {
   "cell_type": "code",
   "execution_count": 18,
   "metadata": {
    "ExecuteTime": {
     "end_time": "2017-02-14T12:48:04.458768",
     "start_time": "2017-02-14T11:42:14.307Z"
    },
    "collapsed": false
   },
   "outputs": [
    {
     "data": {
      "text/plain": [
       "\n",
       "\tFisher's Exact Test for Count Data\n",
       "\n",
       "data:  .\n",
       "p-value = 4.049e-10\n",
       "alternative hypothesis: true odds ratio is not equal to 1\n",
       "95 percent confidence interval:\n",
       " 1.581475 2.526845\n",
       "sample estimates:\n",
       "odds ratio \n",
       "  1.990929 \n"
      ]
     },
     "metadata": {},
     "output_type": "display_data"
    },
    {
     "data": {
      "text/plain": [
       "            Feature_type\n",
       "Driver_type     G    L\n",
       "  oncogene    663 2674\n",
       "  suppressor   97  779"
      ]
     },
     "metadata": {},
     "output_type": "display_data"
    }
   ],
   "source": [
    "# driver type level: association between instances of the gained/lost domains happening in onco/suppressors\n",
    "t <- features %>%\n",
    "    merge(driver.types) %>%\n",
    "    mutate(Feature_type = ifelse(Feature %in% pf.all$Feature[G], \"G\", \"N\"),\n",
    "           Feature_type = ifelse(Feature %in% pf.all$Feature[L], \"L\", Feature_type)) %>%\n",
    "    filter(Driver_type %in% c(\"oncogene\",\"suppressor\") & Feature_type %in% c(\"G\",\"L\")) %>%\n",
    "    select(Driver_type,Feature_type) %>%\n",
    "    table\n",
    "   \n",
    "t %>% fisher.test\n",
    "t"
   ]
  },
  {
   "cell_type": "markdown",
   "metadata": {},
   "source": [
    "## Coincidence in genes\n",
    "We will check if the domains affected by mutations and switches tend to co-occurr in the same genes."
   ]
  },
  {
   "cell_type": "code",
   "execution_count": 19,
   "metadata": {
    "ExecuteTime": {
     "end_time": "2017-02-14T12:48:07.294370",
     "start_time": "2017-02-14T11:42:14.311Z"
    },
    "collapsed": false,
    "scrolled": false
   },
   "outputs": [
    {
     "data": {
      "text/html": [
       "<table>\n",
       "<thead><tr><th scope=col>Feature</th><th scope=col>MS</th><th scope=col>M</th><th scope=col>S</th><th scope=col>N</th><th scope=col>J</th></tr></thead>\n",
       "<tbody>\n",
       "\t<tr><td>PF00683|TB_domain                                               </td><td> 3                                                              </td><td>  4                                                             </td><td>0                                                               </td><td> 0                                                              </td><td>0.42857143                                                      </td></tr>\n",
       "\t<tr><td>PF00969|Class_II_histocompatibility_antigen,_beta_domain        </td><td> 2                                                              </td><td>  3                                                             </td><td>1                                                               </td><td> 2                                                              </td><td>0.33333333                                                      </td></tr>\n",
       "\t<tr><td>PF10409|C2_domain_of_PTEN_tumour-suppressor_protein             </td><td> 2                                                              </td><td>  4                                                             </td><td>0                                                               </td><td> 1                                                              </td><td>0.33333333                                                      </td></tr>\n",
       "\t<tr><td>PF07679|Immunoglobulin_I-set_domain                             </td><td>29                                                              </td><td>101                                                             </td><td>5                                                               </td><td> 9                                                              </td><td>0.21481481                                                      </td></tr>\n",
       "\t<tr><td>PF00041|Fibronectin_type_III_domain                             </td><td>24                                                              </td><td> 95                                                             </td><td>4                                                               </td><td> 7                                                              </td><td>0.19512195                                                      </td></tr>\n",
       "\t<tr><td>PF07645|Calcium-binding_EGF_domain                              </td><td>12                                                              </td><td> 57                                                             </td><td>0                                                               </td><td> 2                                                              </td><td>0.17391304                                                      </td></tr>\n",
       "\t<tr><td>PF00090|Thrombospondin_type_1_domain                            </td><td> 8                                                              </td><td> 39                                                             </td><td>2                                                               </td><td> 5                                                              </td><td>0.16326531                                                      </td></tr>\n",
       "\t<tr><td>PF04103|CD20-like_family                                        </td><td> 2                                                              </td><td> 12                                                             </td><td>1                                                               </td><td> 3                                                              </td><td>0.13333333                                                      </td></tr>\n",
       "\t<tr><td>PF01833|IPT/TIG_domain                                          </td><td> 3                                                              </td><td> 19                                                             </td><td>1                                                               </td><td> 0                                                              </td><td>0.13043478                                                      </td></tr>\n",
       "\t<tr><td>PF00413|Matrixin                                                </td><td> 2                                                              </td><td> 16                                                             </td><td>0                                                               </td><td> 1                                                              </td><td>0.11111111                                                      </td></tr>\n",
       "\t<tr><td>PF01421|Reprolysin_(M12B)_family_zinc_metalloprotease           </td><td> 3                                                              </td><td> 25                                                             </td><td>1                                                               </td><td> 1                                                              </td><td>0.10344828                                                      </td></tr>\n",
       "\t<tr><td>PF00028|Cadherin_domain                                         </td><td>10                                                              </td><td> 90                                                             </td><td>3                                                               </td><td> 4                                                              </td><td>0.09708738                                                      </td></tr>\n",
       "\t<tr><td>PF00125|Core_histone_H2A/H2B/H3/H4                              </td><td> 4                                                              </td><td> 40                                                             </td><td>0                                                               </td><td>13                                                              </td><td>0.09090909                                                      </td></tr>\n",
       "\t<tr><td>PF00071|Ras_family                                              </td><td>11                                                              </td><td>117                                                             </td><td>0                                                               </td><td> 2                                                              </td><td>0.08593750                                                      </td></tr>\n",
       "\t<tr><td>PF02931|Neurotransmitter-gated_ion-channel_ligand_binding_domain</td><td> 1                                                              </td><td> 28                                                             </td><td>1                                                               </td><td> 3                                                              </td><td>0.03333333                                                      </td></tr>\n",
       "</tbody>\n",
       "</table>\n"
      ],
      "text/latex": [
       "\\begin{tabular}{r|llllll}\n",
       " Feature & MS & M & S & N & J\\\\\n",
       "\\hline\n",
       "\t PF00683\\textbar{}TB\\_domain                                                &  3                                                                           &   4                                                                          & 0                                                                            &  0                                                                           & 0.42857143                                                                  \\\\\n",
       "\t PF00969\\textbar{}Class\\_II\\_histocompatibility\\_antigen,\\_beta\\_domain         &  2                                                                                   &   3                                                                                  & 1                                                                                    &  2                                                                                   & 0.33333333                                                                          \\\\\n",
       "\t PF10409\\textbar{}C2\\_domain\\_of\\_PTEN\\_tumour-suppressor\\_protein              &  2                                                                                   &   4                                                                                  & 0                                                                                    &  1                                                                                   & 0.33333333                                                                          \\\\\n",
       "\t PF07679\\textbar{}Immunoglobulin\\_I-set\\_domain                              & 29                                                                             & 101                                                                            & 5                                                                              &  9                                                                             & 0.21481481                                                                    \\\\\n",
       "\t PF00041\\textbar{}Fibronectin\\_type\\_III\\_domain                              & 24                                                                               &  95                                                                              & 4                                                                                &  7                                                                               & 0.19512195                                                                      \\\\\n",
       "\t PF07645\\textbar{}Calcium-binding\\_EGF\\_domain                               & 12                                                                             &  57                                                                            & 0                                                                              &  2                                                                             & 0.17391304                                                                    \\\\\n",
       "\t PF00090\\textbar{}Thrombospondin\\_type\\_1\\_domain                             &  8                                                                               &  39                                                                              & 2                                                                                &  5                                                                               & 0.16326531                                                                      \\\\\n",
       "\t PF04103\\textbar{}CD20-like\\_family                                         &  2                                                                           &  12                                                                          & 1                                                                            &  3                                                                           & 0.13333333                                                                  \\\\\n",
       "\t PF01833\\textbar{}IPT/TIG\\_domain                                           &  3                                                                           &  19                                                                          & 1                                                                            &  0                                                                           & 0.13043478                                                                  \\\\\n",
       "\t PF00413\\textbar{}Matrixin                                                 &  2                                                                         &  16                                                                        & 0                                                                          &  1                                                                         & 0.11111111                                                                \\\\\n",
       "\t PF01421\\textbar{}Reprolysin\\_(M12B)\\_family\\_zinc\\_metalloprotease            &  3                                                                                 &  25                                                                                & 1                                                                                  &  1                                                                                 & 0.10344828                                                                        \\\\\n",
       "\t PF00028\\textbar{}Cadherin\\_domain                                          & 10                                                                           &  90                                                                          & 3                                                                            &  4                                                                           & 0.09708738                                                                  \\\\\n",
       "\t PF00125\\textbar{}Core\\_histone\\_H2A/H2B/H3/H4                               &  4                                                                             &  40                                                                            & 0                                                                              & 13                                                                             & 0.09090909                                                                    \\\\\n",
       "\t PF00071\\textbar{}Ras\\_family                                               & 11                                                                           & 117                                                                          & 0                                                                            &  2                                                                           & 0.08593750                                                                  \\\\\n",
       "\t PF02931\\textbar{}Neurotransmitter-gated\\_ion-channel\\_ligand\\_binding\\_domain &  1                                                                                 &  28                                                                                & 1                                                                                  &  3                                                                                 & 0.03333333                                                                        \\\\\n",
       "\\end{tabular}\n"
      ],
      "text/markdown": [
       "\n",
       "Feature | MS | M | S | N | J | \n",
       "|---|---|---|---|---|---|---|---|---|---|---|---|---|---|---|\n",
       "| PF00683|TB_domain                                                |  3                                                               |   4                                                              | 0                                                                |  0                                                               | 0.42857143                                                       | \n",
       "| PF00969|Class_II_histocompatibility_antigen,_beta_domain         |  2                                                               |   3                                                              | 1                                                                |  2                                                               | 0.33333333                                                       | \n",
       "| PF10409|C2_domain_of_PTEN_tumour-suppressor_protein              |  2                                                               |   4                                                              | 0                                                                |  1                                                               | 0.33333333                                                       | \n",
       "| PF07679|Immunoglobulin_I-set_domain                              | 29                                                               | 101                                                              | 5                                                                |  9                                                               | 0.21481481                                                       | \n",
       "| PF00041|Fibronectin_type_III_domain                              | 24                                                               |  95                                                              | 4                                                                |  7                                                               | 0.19512195                                                       | \n",
       "| PF07645|Calcium-binding_EGF_domain                               | 12                                                               |  57                                                              | 0                                                                |  2                                                               | 0.17391304                                                       | \n",
       "| PF00090|Thrombospondin_type_1_domain                             |  8                                                               |  39                                                              | 2                                                                |  5                                                               | 0.16326531                                                       | \n",
       "| PF04103|CD20-like_family                                         |  2                                                               |  12                                                              | 1                                                                |  3                                                               | 0.13333333                                                       | \n",
       "| PF01833|IPT/TIG_domain                                           |  3                                                               |  19                                                              | 1                                                                |  0                                                               | 0.13043478                                                       | \n",
       "| PF00413|Matrixin                                                 |  2                                                               |  16                                                              | 0                                                                |  1                                                               | 0.11111111                                                       | \n",
       "| PF01421|Reprolysin_(M12B)_family_zinc_metalloprotease            |  3                                                               |  25                                                              | 1                                                                |  1                                                               | 0.10344828                                                       | \n",
       "| PF00028|Cadherin_domain                                          | 10                                                               |  90                                                              | 3                                                                |  4                                                               | 0.09708738                                                       | \n",
       "| PF00125|Core_histone_H2A/H2B/H3/H4                               |  4                                                               |  40                                                              | 0                                                                | 13                                                               | 0.09090909                                                       | \n",
       "| PF00071|Ras_family                                               | 11                                                               | 117                                                              | 0                                                                |  2                                                               | 0.08593750                                                       | \n",
       "| PF02931|Neurotransmitter-gated_ion-channel_ligand_binding_domain |  1                                                               |  28                                                              | 1                                                                |  3                                                               | 0.03333333                                                       | \n",
       "\n",
       "\n"
      ],
      "text/plain": [
       "   Feature                                                          MS M   S N \n",
       "1  PF00683|TB_domain                                                 3   4 0  0\n",
       "2  PF00969|Class_II_histocompatibility_antigen,_beta_domain          2   3 1  2\n",
       "3  PF10409|C2_domain_of_PTEN_tumour-suppressor_protein               2   4 0  1\n",
       "4  PF07679|Immunoglobulin_I-set_domain                              29 101 5  9\n",
       "5  PF00041|Fibronectin_type_III_domain                              24  95 4  7\n",
       "6  PF07645|Calcium-binding_EGF_domain                               12  57 0  2\n",
       "7  PF00090|Thrombospondin_type_1_domain                              8  39 2  5\n",
       "8  PF04103|CD20-like_family                                          2  12 1  3\n",
       "9  PF01833|IPT/TIG_domain                                            3  19 1  0\n",
       "10 PF00413|Matrixin                                                  2  16 0  1\n",
       "11 PF01421|Reprolysin_(M12B)_family_zinc_metalloprotease             3  25 1  1\n",
       "12 PF00028|Cadherin_domain                                          10  90 3  4\n",
       "13 PF00125|Core_histone_H2A/H2B/H3/H4                                4  40 0 13\n",
       "14 PF00071|Ras_family                                               11 117 0  2\n",
       "15 PF02931|Neurotransmitter-gated_ion-channel_ligand_binding_domain  1  28 1  3\n",
       "   J         \n",
       "1  0.42857143\n",
       "2  0.33333333\n",
       "3  0.33333333\n",
       "4  0.21481481\n",
       "5  0.19512195\n",
       "6  0.17391304\n",
       "7  0.16326531\n",
       "8  0.13333333\n",
       "9  0.13043478\n",
       "10 0.11111111\n",
       "11 0.10344828\n",
       "12 0.09708738\n",
       "13 0.09090909\n",
       "14 0.08593750\n",
       "15 0.03333333"
      ]
     },
     "metadata": {},
     "output_type": "display_data"
    }
   ],
   "source": [
    "M <- pf.all$adjp_m < 0.05\n",
    "M[is.na(M)] <- FALSE\n",
    "S <- (pf.all$adjp_l < 0.05 & pf.all$switches_l > 1) | (pf.all$adjp_g < 0.05 & pf.all$switches_g > 1)\n",
    "S[is.na(S)] <- FALSE\n",
    "\n",
    "# get the genes with a switch involving a MS domain\n",
    "s.genes <- switches.pfam %>%\n",
    "    filter(Feature %in% pf.all$Feature[M&S]) %>%\n",
    "    select(GeneId,Symbol,Feature) %>%\n",
    "    unique %>%\n",
    "    mutate(Switched=TRUE)\n",
    "\n",
    "# get the genes with a mutation involving a MS domain\n",
    "m.genes <- read_tsv(\"../data/mutations/proteome_mutations.txt\") %>%\n",
    "    filter(Analysis==\"Pfam\") %>%\n",
    "    filter(Feature %in% pf.all$Feature[M&S]) %>%\n",
    "    select(GeneId,Symbol,Feature) %>%\n",
    "    unique %>%\n",
    "    mutate(Mutated=TRUE)\n",
    "\n",
    "# check all genes containing this feature in the proteome\n",
    "all.genes <- features %>%\n",
    "    filter(Feature %in% pf.all$Feature[M&S]) %>%\n",
    "    select(GeneId,Symbol,Feature) %>%\n",
    "    unique\n",
    "\n",
    "# merge to see coincidence between genes\n",
    "x <- merge(s.genes,m.genes,all=T) %>%\n",
    "    merge(all.genes,all=T) %>%\n",
    "    mutate(Switched=ifelse(is.na(Switched),FALSE,TRUE),\n",
    "           Mutated=ifelse(is.na(Mutated),FALSE,TRUE)) %>%\n",
    "    group_by(Feature) %>%\n",
    "    summarise(MS=sum(Mutated&Switched), M=sum(Mutated), \n",
    "              S=sum(Switched), N=length(GeneId)) %>%\n",
    "    mutate(M=M-MS, S=S-MS, \n",
    "           N=N-(MS+S+M), J=MS/(M+S+MS)) %>%\n",
    "    arrange(desc(J))\n",
    "\n",
    "x"
   ]
  },
  {
   "cell_type": "code",
   "execution_count": 20,
   "metadata": {
    "ExecuteTime": {
     "end_time": "2017-02-14T12:48:07.341821",
     "start_time": "2017-02-14T11:42:14.314Z"
    },
    "collapsed": false
   },
   "outputs": [
    {
     "data": {
      "text/html": [
       "<table>\n",
       "<thead><tr><th></th><th scope=col>GeneId</th><th scope=col>Symbol</th><th scope=col>WhatsHappenning</th></tr></thead>\n",
       "<tbody>\n",
       "\t<tr><th scope=row>1</th><td>4054         </td><td>LTBP3        </td><td>Lost_in_tumor</td></tr>\n",
       "\t<tr><th scope=row>10</th><td>8425         </td><td>LTBP4        </td><td>Lost_in_tumor</td></tr>\n",
       "\t<tr><th scope=row>26</th><td>2201         </td><td>FBN2         </td><td>Lost_in_tumor</td></tr>\n",
       "</tbody>\n",
       "</table>\n"
      ],
      "text/latex": [
       "\\begin{tabular}{r|lll}\n",
       "  & GeneId & Symbol & WhatsHappenning\\\\\n",
       "\\hline\n",
       "\t1 & 4054              & LTBP3             & Lost\\_in\\_tumor\\\\\n",
       "\t10 & 8425              & LTBP4             & Lost\\_in\\_tumor\\\\\n",
       "\t26 & 2201              & FBN2              & Lost\\_in\\_tumor\\\\\n",
       "\\end{tabular}\n"
      ],
      "text/markdown": [
       "\n",
       "| <!--/--> | GeneId | Symbol | WhatsHappenning | \n",
       "|---|---|---|\n",
       "| 1 | 4054          | LTBP3         | Lost_in_tumor | \n",
       "| 10 | 8425          | LTBP4         | Lost_in_tumor | \n",
       "| 26 | 2201          | FBN2          | Lost_in_tumor | \n",
       "\n",
       "\n"
      ],
      "text/plain": [
       "   GeneId Symbol WhatsHappenning\n",
       "1  4054   LTBP3  Lost_in_tumor  \n",
       "10 8425   LTBP4  Lost_in_tumor  \n",
       "26 2201   FBN2   Lost_in_tumor  "
      ]
     },
     "metadata": {},
     "output_type": "display_data"
    }
   ],
   "source": [
    "switches.pfam %>%\n",
    "    filter(Feature==\"PF00683|TB_domain\") %>%\n",
    "    select(GeneId,Symbol,WhatsHappenning) %>%\n",
    "    unique"
   ]
  }
 ],
 "metadata": {
  "anaconda-cloud": {},
  "kernelspec": {
   "display_name": "R",
   "language": "R",
   "name": "ir"
  },
  "language_info": {
   "codemirror_mode": "r",
   "file_extension": ".r",
   "mimetype": "text/x-r-source",
   "name": "R",
   "pygments_lexer": "r",
   "version": "3.3.2"
  },
  "toc": {
   "toc_cell": false,
   "toc_number_sections": true,
   "toc_threshold": 6,
   "toc_window_display": false
  }
 },
 "nbformat": 4,
 "nbformat_minor": 0
}
