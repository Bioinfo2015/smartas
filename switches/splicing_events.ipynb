{
 "cells": [
  {
   "cell_type": "code",
   "execution_count": 1,
   "metadata": {
    "ExecuteTime": {
     "end_time": "2017-01-26T19:17:36.204981",
     "start_time": "2017-01-26T18:17:27.481Z"
    },
    "collapsed": false
   },
   "outputs": [
    {
     "name": "stderr",
     "output_type": "stream",
     "text": [
      "Loading tidyverse: ggplot2\n",
      "Loading tidyverse: tibble\n",
      "Loading tidyverse: tidyr\n",
      "Loading tidyverse: readr\n",
      "Loading tidyverse: purrr\n",
      "Loading tidyverse: dplyr\n",
      "Conflicts with tidy packages ---------------------------------------------------\n",
      "filter(): dplyr, stats\n",
      "lag():    dplyr, stats\n",
      "\n",
      "Attaching package: ‘magrittr’\n",
      "\n",
      "The following object is masked from ‘package:purrr’:\n",
      "\n",
      "    set_names\n",
      "\n",
      "The following object is masked from ‘package:tidyr’:\n",
      "\n",
      "    extract\n",
      "\n",
      "\n",
      "Attaching package: ‘scales’\n",
      "\n",
      "The following object is masked from ‘package:purrr’:\n",
      "\n",
      "    discard\n",
      "\n",
      "The following objects are masked from ‘package:readr’:\n",
      "\n",
      "    col_factor, col_numeric\n",
      "\n"
     ]
    }
   ],
   "source": [
    "source(\"../data/env/variables.R\")\n",
    "source(\"~/wisdom/r/clean_theme.R\")\n",
    "library(tidyverse)\n",
    "library(magrittr)\n",
    "library(scales)\n",
    "library(ggstars)\n",
    "\n",
    "options(\"readr.num_columns\" = 0)\n",
    "\n",
    "# read switches\n",
    "switches <- read_tsv(\"../data/pancancer/candidateList_full.tsv\") %>%\n",
    "    filter(Reliable==1 & Origin==\"Tumor\")\n",
    "\n",
    "# read events\n",
    "events <- lapply(c(\"A3\", \"A5\", \"AF\", \"AL\", \"MX\", \"RI\", \"SE\"), function(eventType){\n",
    "    read_tsv(paste0(\"../data/events/tcga_event_annotation_full_\", eventType, \".ioe\")) %>%\n",
    "        # split the alternative and total columns into multiple rows\n",
    "        mutate(alternative_transcripts = strsplit(alternative_transcripts, \",\")) %>%\n",
    "        unnest(alternative_transcripts) %>%\n",
    "        mutate(total_transcripts = strsplit(total_transcripts, \",\")) %>%\n",
    "        unnest(total_transcripts) %>%\n",
    "        select(alternative_transcripts,total_transcripts,event_id) %>%\n",
    "        mutate(eventType = eventType)\n",
    "}) %>% do.call(\"rbind\",.)"
   ]
  },
  {
   "cell_type": "code",
   "execution_count": 2,
   "metadata": {
    "ExecuteTime": {
     "end_time": "2017-01-26T19:17:40.035508",
     "start_time": "2017-01-26T18:17:27.490Z"
    },
    "collapsed": false
   },
   "outputs": [],
   "source": [
    "# skipping: events where normal has the event\n",
    "nt <- merge(switches, events, \n",
    "      by.x=c(\"Normal_transcript\",\"Tumor_transcript\"), \n",
    "      by.y=c(\"alternative_transcripts\", \"total_transcripts\")) %>%\n",
    "    mutate(what = \"skipping\")\n",
    "\n",
    "# inclusion: events where tumor has the event\n",
    "tn <- merge(switches, events, \n",
    "      by.x=c(\"Tumor_transcript\",\"Normal_transcript\"), \n",
    "      by.y=c(\"alternative_transcripts\", \"total_transcripts\")) %>%\n",
    "    mutate(what = \"inclusion\")\n",
    "\n",
    "# join\n",
    "events_switches <- rbind(nt,tn) %>%\n",
    "    select(Normal_transcript,Tumor_transcript,event_id,eventType,what) %>%\n",
    "    # take only those where only either normal or tumor undergo the event\n",
    "    group_by(Normal_transcript,Tumor_transcript,event_id) %>%\n",
    "    filter(n() == 1)"
   ]
  },
  {
   "cell_type": "code",
   "execution_count": 3,
   "metadata": {
    "ExecuteTime": {
     "end_time": "2017-01-26T19:17:40.119037",
     "start_time": "2017-01-26T18:17:27.495Z"
    },
    "collapsed": false
   },
   "outputs": [
    {
     "data": {
      "text/html": [
       "5674"
      ],
      "text/latex": [
       "5674"
      ],
      "text/markdown": [
       "5674"
      ],
      "text/plain": [
       "[1] 5674"
      ]
     },
     "metadata": {},
     "output_type": "display_data"
    }
   ],
   "source": [
    "# number of switches where we can map at least one event\n",
    "rbind(nt,tn) %>%\n",
    "    select(Normal_transcript,Tumor_transcript) %>%\n",
    "    unique %>%\n",
    "    nrow"
   ]
  },
  {
   "cell_type": "code",
   "execution_count": 4,
   "metadata": {
    "ExecuteTime": {
     "end_time": "2017-01-26T19:17:40.398441",
     "start_time": "2017-01-26T18:17:27.503Z"
    },
    "collapsed": false
   },
   "outputs": [
    {
     "name": "stderr",
     "output_type": "stream",
     "text": [
      "Adding missing grouping variables: `event_id`\n"
     ]
    },
    {
     "data": {
      "text/html": [
       "5667"
      ],
      "text/latex": [
       "5667"
      ],
      "text/markdown": [
       "5667"
      ],
      "text/plain": [
       "[1] 5667"
      ]
     },
     "metadata": {},
     "output_type": "display_data"
    },
    {
     "name": "stderr",
     "output_type": "stream",
     "text": [
      "Adding missing grouping variables: `event_id`\n"
     ]
    },
    {
     "data": {
      "text/html": [
       "5667"
      ],
      "text/latex": [
       "5667"
      ],
      "text/markdown": [
       "5667"
      ],
      "text/plain": [
       "[1] 5667"
      ]
     },
     "metadata": {},
     "output_type": "display_data"
    }
   ],
   "source": [
    "# number of switches with differences in events\n",
    "events_switches %>%\n",
    "    select(Normal_transcript,Tumor_transcript) %>%\n",
    "    unique %>%\n",
    "    nrow\n",
    "\n",
    "events_switches %>%\n",
    "    select(Normal_transcript,Tumor_transcript) %>%\n",
    "    nrow"
   ]
  },
  {
   "cell_type": "code",
   "execution_count": 5,
   "metadata": {
    "ExecuteTime": {
     "end_time": "2017-01-26T19:17:40.445533",
     "start_time": "2017-01-26T18:17:27.510Z"
    },
    "collapsed": false
   },
   "outputs": [
    {
     "data": {
      "text/html": [
       "8122"
      ],
      "text/latex": [
       "8122"
      ],
      "text/markdown": [
       "8122"
      ],
      "text/plain": [
       "[1] 8122"
      ]
     },
     "metadata": {},
     "output_type": "display_data"
    }
   ],
   "source": [
    "# total number of switches\n",
    "switches %>%\n",
    "    select(Normal_transcript,Tumor_transcript) %>%\n",
    "    unique %>%\n",
    "    nrow"
   ]
  },
  {
   "cell_type": "code",
   "execution_count": 6,
   "metadata": {
    "ExecuteTime": {
     "end_time": "2017-01-26T19:17:42.757187",
     "start_time": "2017-01-26T18:17:27.516Z"
    },
    "collapsed": false
   },
   "outputs": [
    {
     "name": "stderr",
     "output_type": "stream",
     "text": [
      "Adding missing grouping variables: `Normal_transcript`, `Tumor_transcript`, `event_id`\n",
      "Adding missing grouping variables: `Normal_transcript`, `Tumor_transcript`, `event_id`\n",
      "Loading required package: RColorBrewer\n"
     ]
    },
    {
     "data": {},
     "metadata": {},
     "output_type": "display_data"
    },
    {
     "data": {
      "image/png": "[encoded data removed]",
      "text/plain": [
       "plot without title"
      ]
     },
     "metadata": {},
     "output_type": "display_data"
    }
   ],
   "source": [
    "# compare proportions to background ie all events\n",
    "events_switches.freq <- events_switches %>%\n",
    "    select(eventType) %>%\n",
    "    group_by(eventType) %>%\n",
    "    summarise(., f = n()/nrow(.)) %>%\n",
    "    mutate(Genes = \"Switched\")\n",
    "\n",
    "events.freq <- events %>%\n",
    "    select(eventType) %>%\n",
    "    group_by(eventType) %>%\n",
    "    summarise(., f = n()/nrow(.)) %>%\n",
    "    mutate(Genes = \"All\")\n",
    "\n",
    "# compare proportions to background ie all events\n",
    "events_switches.n <- events_switches %>%\n",
    "    select(eventType) %>%\n",
    "    group_by(eventType) %>%\n",
    "    summarise(f = n())\n",
    "\n",
    "events.n <- events %>%\n",
    "    select(eventType) %>%\n",
    "    group_by(eventType) %>%\n",
    "    summarise(f = n())\n",
    "\n",
    "tests <- merge(events_switches.n, events.n, by=\"eventType\", suffixes = c(\".switches\",\".all\")) %>%\n",
    "    mutate(n.switches = sum(f.switches) - f.switches, \n",
    "           n.all = sum(f.all) - f.all)\n",
    "p <- apply(tests %>% select(n.switches, f.switches, n.all, f.all), 1, function(x){\n",
    "    fisher.test(matrix(x,2,2))$p.value\n",
    "})\n",
    "\n",
    "gg <- rbind(events_switches.freq, events.freq) %>%\n",
    "    ggplot(aes(eventType, f, fill = Genes)) + \n",
    "        geom_bar(stat=\"identity\", position=\"dodge\") +\n",
    "        labs(x = \"Event\", y = \"% genes\") +\n",
    "        scale_y_continuous(labels = percent)  +\n",
    "        clean_theme() +\n",
    "        theme(legend.position=\"bottom\")\n",
    "\n",
    "star_bar(gg, p < 0.025, dist = 0.025, fit = FALSE)"
   ]
  }
 ],
 "metadata": {
  "anaconda-cloud": {},
  "kernelspec": {
   "display_name": "R",
   "language": "R",
   "name": "ir"
  },
  "language_info": {
   "codemirror_mode": "r",
   "file_extension": ".r",
   "mimetype": "text/x-r-source",
   "name": "R",
   "pygments_lexer": "r",
   "version": "3.3.2"
  }
 },
 "nbformat": 4,
 "nbformat_minor": 1
}
